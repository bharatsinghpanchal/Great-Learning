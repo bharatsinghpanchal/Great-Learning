{
 "cells": [
  {
   "cell_type": "code",
   "execution_count": 1,
   "id": "82cb634c",
   "metadata": {},
   "outputs": [],
   "source": [
    "import numpy as np\n",
    "import pandas as pd\n",
    "import scipy.stats as stats\n",
    "import matplotlib.pyplot as plt"
   ]
  },
  {
   "cell_type": "code",
   "execution_count": 2,
   "id": "f01c6356",
   "metadata": {},
   "outputs": [
    {
     "name": "stdout",
     "output_type": "stream",
     "text": [
      "Joint probability of the people who planned to purchase and actually placed an order. is 0.2000\n"
     ]
    }
   ],
   "source": [
    "#find the joint probability of the people who planned to purchase and actually placed an order.\n",
    "\n",
    "#You observe from the above table, that 400 people planned to purchase and actually placed an order is 400 out of 2000 people.\n",
    "\n",
    "#FE6 is the number of people who planned and actually placed an order\n",
    "\n",
    "FE6 = 400\n",
    "TE  = 2000\n",
    "PE7 = round(FE6 / TE,4) \n",
    "print('Joint probability of the people who planned to purchase and actually placed an order. is %1.4f' % PE7)"
   ]
  },
  {
   "cell_type": "code",
   "execution_count": 3,
   "id": "af42d0a3",
   "metadata": {},
   "outputs": [
    {
     "name": "stdout",
     "output_type": "stream",
     "text": [
      "P(Actually placed an order | Planned to purchase) is 0.8000\n"
     ]
    }
   ],
   "source": [
    "#find the joint probability of the people who planned to purchase and actually placed an order, given that people planned to purchase\n",
    "\n",
    "# P1 = P(Actually placed an order | Planned to purchase)\n",
    "# P2 = Planned to purchase and actually placed an order\n",
    "# P3 = Planned to purchase\n",
    "\n",
    "P1   = (400 / 2000 )/ (500 / 2000)\n",
    "\n",
    "print('P(Actually placed an order | Planned to purchase) is %1.4f' % P1) "
   ]
  },
  {
   "cell_type": "code",
   "execution_count": 4,
   "id": "5ecfd822",
   "metadata": {},
   "outputs": [],
   "source": [
    "# 2.A. Probability that none of the items are defective? \n",
    "\n",
    "p   =  0.05 # failure rate for items that the company manufactures is 5%\n",
    "n   =  10 # sample size\n",
    "k   =  np.arange(0,11) # An array of quantiles"
   ]
  },
  {
   "cell_type": "code",
   "execution_count": 5,
   "id": "ad465803",
   "metadata": {},
   "outputs": [
    {
     "name": "stdout",
     "output_type": "stream",
     "text": [
      "[5.98736939e-01 3.15124705e-01 7.46347985e-02 1.04750594e-02\n",
      " 9.64808106e-04 6.09352488e-05 2.67259863e-06 8.03789062e-08\n",
      " 1.58642578e-09 1.85546875e-11 9.76562500e-14]\n"
     ]
    }
   ],
   "source": [
    "binomial = stats.binom.pmf(k,n,p)\n",
    "\n",
    "print(binomial)"
   ]
  },
  {
   "cell_type": "code",
   "execution_count": 6,
   "id": "80530f48",
   "metadata": {},
   "outputs": [
    {
     "name": "stdout",
     "output_type": "stream",
     "text": [
      "a) None of the items are defective? is 0.5987\n"
     ]
    }
   ],
   "source": [
    "print('a) None of the items are defective? is %1.4f' %binomial[0])"
   ]
  },
  {
   "cell_type": "code",
   "execution_count": 7,
   "id": "cfa98908",
   "metadata": {},
   "outputs": [
    {
     "name": "stdout",
     "output_type": "stream",
     "text": [
      "b) Exactly one of the LED bulbs is defective? is 0.3151\n"
     ]
    }
   ],
   "source": [
    "#2.B. Probability that exactly one of the items is defective?\n",
    "\n",
    "print('b) Exactly one of the LED bulbs is defective? is %1.4f' %binomial[1])"
   ]
  },
  {
   "cell_type": "code",
   "execution_count": 9,
   "id": "7a5bab52",
   "metadata": {},
   "outputs": [
    {
     "name": "stdout",
     "output_type": "stream",
     "text": [
      "[0.59873694 0.91386164 0.98849644 0.9989715  0.99993631 0.99999725\n",
      " 0.99999992 1.         1.         1.         1.        ]\n"
     ]
    }
   ],
   "source": [
    "#To answer the question 2.C) Two or fewer items are defective?\n",
    "#we need to calculate cumulative probability of Upto Two items being defective\n",
    "\n",
    "cumbinomial = stats.binom.cdf(k,n,p)\n",
    "print(cumbinomial)"
   ]
  },
  {
   "cell_type": "code",
   "execution_count": 10,
   "id": "7ab7ebe1",
   "metadata": {},
   "outputs": [
    {
     "name": "stdout",
     "output_type": "stream",
     "text": [
      "c) Two or fewer of the LED bulbs are defective? is 0.9885\n"
     ]
    }
   ],
   "source": [
    "print('c) Two or fewer of the LED bulbs are defective? is %1.4f' %cumbinomial[2])"
   ]
  },
  {
   "cell_type": "code",
   "execution_count": 11,
   "id": "9e43abc2",
   "metadata": {},
   "outputs": [
    {
     "name": "stdout",
     "output_type": "stream",
     "text": [
      "d) Three or more of the LED bulbs are defective is 0.0115\n"
     ]
    }
   ],
   "source": [
    "#To answer the question d) Three or more of the items are defective, we need to subtract cumulative Probability upto 2 defective items from 1.\n",
    "\n",
    "P = 1- cumbinomial[2]\n",
    "print('d) Three or more of the LED bulbs are defective is %1.4f' % P)"
   ]
  },
  {
   "cell_type": "code",
   "execution_count": 12,
   "id": "47f5488a",
   "metadata": {},
   "outputs": [
    {
     "data": {
      "text/plain": [
       "array([0.04978707, 0.19914827, 0.42319008, 0.64723189, 0.81526324,\n",
       "       0.91608206, 0.96649146, 0.9880955 , 0.99619701, 0.99889751,\n",
       "       0.99970766, 0.99992861, 0.99998385, 0.9999966 , 0.99999933,\n",
       "       0.99999988])"
      ]
     },
     "execution_count": 12,
     "metadata": {},
     "output_type": "execute_result"
    }
   ],
   "source": [
    "#3.A. What is Probability that in a given week he will sell some cars?\n",
    "\n",
    "rate =  3 # which is the mean\n",
    "n    =  np.arange(0,16)\n",
    "cumpoisson = stats.poisson.cdf(n,rate)\n",
    "\n",
    "cumpoisson"
   ]
  },
  {
   "cell_type": "code",
   "execution_count": 13,
   "id": "01f2427b",
   "metadata": {},
   "outputs": [
    {
     "name": "stdout",
     "output_type": "stream",
     "text": [
      " a) Probability that the car salesman sells some cars is 0.9502\n"
     ]
    }
   ],
   "source": [
    "# P = probability that the car salesman sells some cars\n",
    "P   = 1 - cumpoisson[0]\n",
    "print(' a) Probability that the car salesman sells some cars is %1.4f' % P)"
   ]
  },
  {
   "cell_type": "code",
   "execution_count": 14,
   "id": "acc3ea68",
   "metadata": {},
   "outputs": [
    {
     "name": "stdout",
     "output_type": "stream",
     "text": [
      " b) Probability that the agent sells between 2 and 5 policies is 0.6161\n"
     ]
    }
   ],
   "source": [
    "#3.B. What is Probability that in a given week he will sell 2 or more but less than 5 cars?\n",
    "\n",
    "# Let P1 be the probability that the salesman sells more than 4 cars\n",
    "P1 = cumpoisson[4] # P(X >=4)\n",
    "# Let P2 be the probability that the salesman sells more than 1 cars\n",
    "P2 = cumpoisson[1] # P(X >=1)\n",
    "P = P1 - P2 # Probability that the agent will sell between 2 and 5 cars\n",
    "print(' b) Probability that the agent sells between 2 and 5 policies is %1.4f' % P)"
   ]
  },
  {
   "cell_type": "code",
   "execution_count": 15,
   "id": "7cce09fd",
   "metadata": {},
   "outputs": [
    {
     "data": {
      "image/png": "[encoded data removed]",
      "text/plain": [
       "<Figure size 432x288 with 1 Axes>"
      ]
     },
     "metadata": {
      "needs_background": "light"
     },
     "output_type": "display_data"
    }
   ],
   "source": [
    "#3.C. Plot the poisson distribution function for cumulative probability of cars sold per-week vs number of cars sold per week.\n",
    "\n",
    "poisson = stats.poisson.pmf(n,rate)\n",
    "plt.plot(n,poisson, 'o-')\n",
    "plt.title('Poisson')\n",
    "plt.xlabel('Number of cars sold per week')\n",
    "plt.ylabel('Cumulative Prob of cars sold per week')\n",
    "plt.show()"
   ]
  },
  {
   "cell_type": "markdown",
   "id": "a17d081a",
   "metadata": {},
   "source": [
    "4. Accuracy in understanding orders for a speech based bot at a restaurant is important for the Company X which has designed, marketed and launched the product for a contactless delivery due to the COVID-19 pandemic. Recognition accuracy that measures the percentage of orders that are taken correctly is 86.8%. Suppose that you place an order with the bot and two friends of yours independently place orders with the same bot. Answer the following questions."
   ]
  },
  {
   "cell_type": "markdown",
   "id": "d871875f",
   "metadata": {},
   "source": [
    "Because there are three orders and the probability of a correct order is 0.868. \n",
    "Using Binomial distribution equation,\n",
    "    \n",
    "    P(X = 3|n =3, pi given = 0.868)\n",
    "    3!/ 3!(3-3)! * (0.868)^3 * (1-0.868)^3-3 = 0.6540\n",
    "    \n",
    "    Likewise, calculate X= 0, X=2\n",
    "     (X = 0) = 0.0023\n",
    "     (X = 2) = 0.2984\n",
    "    \n",
    "    Hence, P(X>=2) = P(X=2)+P(X=3) = 0.9524"
   ]
  },
  {
   "cell_type": "markdown",
   "id": "fccd3110",
   "metadata": {},
   "source": [
    "The probability that all the three orders are filled correctly is 0.6540, 65.4% The probability that none of the orders are filled correctly is 0.0023, 0.23% The probability that atleat two of the three are filled correctly is 0.9524, 95.24%"
   ]
  },
  {
   "cell_type": "markdown",
   "id": "bc3aa7e1",
   "metadata": {},
   "source": [
    "## 5. Explain 1 real life industry scenario (other than the ones mentioned above) where you can use the concepts learnt in this module of Applied Statistics to get data driven business solution. \n",
    "\n",
    "## Applied statistics for non-clinical applications\n",
    "\n",
    "The pharmaceutical industry is undergoing a significant change with new treatments becoming increasingly complex and costly. These changes within the dynamic business environment, provide opportunities to statisticians within the pharmaceutical industry. Furthermore, statistical tasks within non-clinical applications consist of strategic and operational tasks. While strategic tasks reflect the impact of the drug design at the compound level, operational tasks, on the other hand, deal with the implementation of the design. In the initial stage of drug designing, applied statistics can help in:\n",
    "\n",
    "- screening\n",
    "- chemical development\n",
    "- drug delivery process designing\n",
    "- assay development and\n",
    "- formulation development\n",
    "\n",
    "The frequent need for applied statistics at this stage is to facilitate entry into unknown markets and for non-clinical trials. At stage 1 (Drug discovery) quantification of gene expression, prediction of rare disease, identification of biomarkers is some of the key areas where biostatisticians are useful. Furthermore, post-drug-discovery, it is imperative for pharmaceutical companies to identify the key market for their drug before they begin their marketing process. **Therefore, applied statistics are important to determine market management strategies to maximize ROI, market expansion strategies, strategies to enhance brand impact, create value, optimize resources, maximize the value of the launch, improve workforce efficiency, reduce attrition rates and improve customer service and purchase behaviour**. For example, if Company X is retailing its product in both rural and urban markets and needs to determine the factors influencing the purchase behaviour more so among the rural population, they would need statisticians to identify the key factors influencing the rural population, competitors of the company and the product in the urban market and also enable them in devising strategies to overcome related challenges."
   ]
  },
  {
   "cell_type": "code",
   "execution_count": null,
   "id": "6bb65e4c",
   "metadata": {},
   "outputs": [],
   "source": []
  }
 ],
 "metadata": {
  "kernelspec": {
   "display_name": "Python 3 (ipykernel)",
   "language": "python",
   "name": "python3"
  },
  "language_info": {
   "codemirror_mode": {
    "name": "ipython",
    "version": 3
   },
   "file_extension": ".py",
   "mimetype": "text/x-python",
   "name": "python",
   "nbconvert_exporter": "python",
   "pygments_lexer": "ipython3",
   "version": "3.9.7"
  }
 },
 "nbformat": 4,
 "nbformat_minor": 5
}
