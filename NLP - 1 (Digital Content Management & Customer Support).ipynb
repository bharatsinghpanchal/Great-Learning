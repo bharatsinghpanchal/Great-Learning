{
 "cells": [
  {
   "cell_type": "code",
   "execution_count": 1,
   "id": "87dec9d7",
   "metadata": {},
   "outputs": [],
   "source": [
    "# Import Libraries\n",
    "\n",
    "import os\n",
    "import sys\n",
    "import warnings                                 # `dnd` mode\n",
    "warnings.filterwarnings('ignore')\n",
    "\n",
    "import numpy as np\n",
    "import pandas as pd\n",
    "import re\n",
    "from nltk.corpus import stopwords\n",
    "from sklearn.feature_extraction.text import CountVectorizer, TfidfVectorizer\n",
    "from sklearn.preprocessing import MultiLabelBinarizer\n",
    "from sklearn.model_selection import train_test_split\n",
    "\n",
    "from sklearn.linear_model import LogisticRegression\n",
    "from sklearn.pipeline import Pipeline\n",
    "from sklearn.metrics import accuracy_score\n",
    "from sklearn.multiclass import OneVsRestClassifier\n",
    "\n",
    "\n",
    "import seaborn as sns\n",
    "import matplotlib as plt\n",
    "%matplotlib inline"
   ]
  },
  {
   "cell_type": "code",
   "execution_count": 2,
   "id": "b25ae64b",
   "metadata": {},
   "outputs": [],
   "source": [
    "blogtext_df = pd.read_csv(\"blogtext.csv\")"
   ]
  },
  {
   "cell_type": "code",
   "execution_count": 3,
   "id": "af1a26e3",
   "metadata": {},
   "outputs": [
    {
     "data": {
      "text/plain": [
       "(681284, 7)"
      ]
     },
     "execution_count": 3,
     "metadata": {},
     "output_type": "execute_result"
    }
   ],
   "source": [
    "#Check the shape of the data\n",
    "blogtext_df.shape"
   ]
  },
  {
   "cell_type": "markdown",
   "id": "b60d1f41",
   "metadata": {},
   "source": [
    "1. It's a large dataset with lots of rows\n",
    "\n",
    "2. It also seems like it is multilingual, which we will have to deal with as me move forward "
   ]
  },
  {
   "cell_type": "code",
   "execution_count": 4,
   "id": "f94d8797",
   "metadata": {},
   "outputs": [
    {
     "data": {
      "text/html": [
       "<div>\n",
       "<style scoped>\n",
       "    .dataframe tbody tr th:only-of-type {\n",
       "        vertical-align: middle;\n",
       "    }\n",
       "\n",
       "    .dataframe tbody tr th {\n",
       "        vertical-align: top;\n",
       "    }\n",
       "\n",
       "    .dataframe thead th {\n",
       "        text-align: right;\n",
       "    }\n",
       "</style>\n",
       "<table border=\"1\" class=\"dataframe\">\n",
       "  <thead>\n",
       "    <tr style=\"text-align: right;\">\n",
       "      <th></th>\n",
       "      <th>id</th>\n",
       "      <th>gender</th>\n",
       "      <th>age</th>\n",
       "      <th>topic</th>\n",
       "      <th>sign</th>\n",
       "      <th>date</th>\n",
       "      <th>text</th>\n",
       "    </tr>\n",
       "  </thead>\n",
       "  <tbody>\n",
       "    <tr>\n",
       "      <th>0</th>\n",
       "      <td>2059027</td>\n",
       "      <td>male</td>\n",
       "      <td>15</td>\n",
       "      <td>Student</td>\n",
       "      <td>Leo</td>\n",
       "      <td>14,May,2004</td>\n",
       "      <td>Info has been found (+/- 100 pages,...</td>\n",
       "    </tr>\n",
       "    <tr>\n",
       "      <th>1</th>\n",
       "      <td>2059027</td>\n",
       "      <td>male</td>\n",
       "      <td>15</td>\n",
       "      <td>Student</td>\n",
       "      <td>Leo</td>\n",
       "      <td>13,May,2004</td>\n",
       "      <td>These are the team members:   Drewe...</td>\n",
       "    </tr>\n",
       "    <tr>\n",
       "      <th>2</th>\n",
       "      <td>2059027</td>\n",
       "      <td>male</td>\n",
       "      <td>15</td>\n",
       "      <td>Student</td>\n",
       "      <td>Leo</td>\n",
       "      <td>12,May,2004</td>\n",
       "      <td>In het kader van kernfusie op aarde...</td>\n",
       "    </tr>\n",
       "    <tr>\n",
       "      <th>3</th>\n",
       "      <td>2059027</td>\n",
       "      <td>male</td>\n",
       "      <td>15</td>\n",
       "      <td>Student</td>\n",
       "      <td>Leo</td>\n",
       "      <td>12,May,2004</td>\n",
       "      <td>testing!!!  testing!!!</td>\n",
       "    </tr>\n",
       "    <tr>\n",
       "      <th>4</th>\n",
       "      <td>3581210</td>\n",
       "      <td>male</td>\n",
       "      <td>33</td>\n",
       "      <td>InvestmentBanking</td>\n",
       "      <td>Aquarius</td>\n",
       "      <td>11,June,2004</td>\n",
       "      <td>Thanks to Yahoo!'s Toolbar I can ...</td>\n",
       "    </tr>\n",
       "    <tr>\n",
       "      <th>5</th>\n",
       "      <td>3581210</td>\n",
       "      <td>male</td>\n",
       "      <td>33</td>\n",
       "      <td>InvestmentBanking</td>\n",
       "      <td>Aquarius</td>\n",
       "      <td>10,June,2004</td>\n",
       "      <td>I had an interesting conversation...</td>\n",
       "    </tr>\n",
       "    <tr>\n",
       "      <th>6</th>\n",
       "      <td>3581210</td>\n",
       "      <td>male</td>\n",
       "      <td>33</td>\n",
       "      <td>InvestmentBanking</td>\n",
       "      <td>Aquarius</td>\n",
       "      <td>10,June,2004</td>\n",
       "      <td>Somehow Coca-Cola has a way of su...</td>\n",
       "    </tr>\n",
       "    <tr>\n",
       "      <th>7</th>\n",
       "      <td>3581210</td>\n",
       "      <td>male</td>\n",
       "      <td>33</td>\n",
       "      <td>InvestmentBanking</td>\n",
       "      <td>Aquarius</td>\n",
       "      <td>10,June,2004</td>\n",
       "      <td>If anything, Korea is a country o...</td>\n",
       "    </tr>\n",
       "    <tr>\n",
       "      <th>8</th>\n",
       "      <td>3581210</td>\n",
       "      <td>male</td>\n",
       "      <td>33</td>\n",
       "      <td>InvestmentBanking</td>\n",
       "      <td>Aquarius</td>\n",
       "      <td>10,June,2004</td>\n",
       "      <td>Take a read of this news article ...</td>\n",
       "    </tr>\n",
       "    <tr>\n",
       "      <th>9</th>\n",
       "      <td>3581210</td>\n",
       "      <td>male</td>\n",
       "      <td>33</td>\n",
       "      <td>InvestmentBanking</td>\n",
       "      <td>Aquarius</td>\n",
       "      <td>09,June,2004</td>\n",
       "      <td>I surf the English news sites a l...</td>\n",
       "    </tr>\n",
       "  </tbody>\n",
       "</table>\n",
       "</div>"
      ],
      "text/plain": [
       "        id gender  age              topic      sign          date  \\\n",
       "0  2059027   male   15            Student       Leo   14,May,2004   \n",
       "1  2059027   male   15            Student       Leo   13,May,2004   \n",
       "2  2059027   male   15            Student       Leo   12,May,2004   \n",
       "3  2059027   male   15            Student       Leo   12,May,2004   \n",
       "4  3581210   male   33  InvestmentBanking  Aquarius  11,June,2004   \n",
       "5  3581210   male   33  InvestmentBanking  Aquarius  10,June,2004   \n",
       "6  3581210   male   33  InvestmentBanking  Aquarius  10,June,2004   \n",
       "7  3581210   male   33  InvestmentBanking  Aquarius  10,June,2004   \n",
       "8  3581210   male   33  InvestmentBanking  Aquarius  10,June,2004   \n",
       "9  3581210   male   33  InvestmentBanking  Aquarius  09,June,2004   \n",
       "\n",
       "                                                text  \n",
       "0             Info has been found (+/- 100 pages,...  \n",
       "1             These are the team members:   Drewe...  \n",
       "2             In het kader van kernfusie op aarde...  \n",
       "3                   testing!!!  testing!!!            \n",
       "4               Thanks to Yahoo!'s Toolbar I can ...  \n",
       "5               I had an interesting conversation...  \n",
       "6               Somehow Coca-Cola has a way of su...  \n",
       "7               If anything, Korea is a country o...  \n",
       "8               Take a read of this news article ...  \n",
       "9               I surf the English news sites a l...  "
      ]
     },
     "execution_count": 4,
     "metadata": {},
     "output_type": "execute_result"
    }
   ],
   "source": [
    "#Check the first 10 rows\n",
    "blogtext_df.head(10)"
   ]
  },
  {
   "cell_type": "code",
   "execution_count": 5,
   "id": "b7e40db6",
   "metadata": {},
   "outputs": [
    {
     "name": "stdout",
     "output_type": "stream",
     "text": [
      "<class 'pandas.core.frame.DataFrame'>\n",
      "RangeIndex: 681284 entries, 0 to 681283\n",
      "Data columns (total 7 columns):\n",
      " #   Column  Non-Null Count   Dtype \n",
      "---  ------  --------------   ----- \n",
      " 0   id      681284 non-null  int64 \n",
      " 1   gender  681284 non-null  object\n",
      " 2   age     681284 non-null  int64 \n",
      " 3   topic   681284 non-null  object\n",
      " 4   sign    681284 non-null  object\n",
      " 5   date    681284 non-null  object\n",
      " 6   text    681284 non-null  object\n",
      "dtypes: int64(2), object(5)\n",
      "memory usage: 36.4+ MB\n"
     ]
    }
   ],
   "source": [
    "#check the feature/columns  \n",
    "blogtext_df.info()"
   ]
  },
  {
   "cell_type": "code",
   "execution_count": 6,
   "id": "ed636fc4",
   "metadata": {},
   "outputs": [
    {
     "data": {
      "image/png": "[encoded data removed]",
      "text/plain": [
       "<Figure size 432x288 with 1 Axes>"
      ]
     },
     "metadata": {
      "needs_background": "light"
     },
     "output_type": "display_data"
    }
   ],
   "source": [
    "#Check gender-wise distribution\n",
    "sns.countplot(x='gender',data=blogtext_df);"
   ]
  },
  {
   "cell_type": "code",
   "execution_count": 7,
   "id": "e2d2b0fc",
   "metadata": {},
   "outputs": [
    {
     "data": {
      "image/png": "[encoded data removed]",
      "text/plain": [
       "<Figure size 432x288 with 1 Axes>"
      ]
     },
     "metadata": {
      "needs_background": "light"
     },
     "output_type": "display_data"
    }
   ],
   "source": [
    "#Check age distribution\n",
    "age = blogtext_df.age\n",
    "sns.distplot(age);"
   ]
  },
  {
   "cell_type": "code",
   "execution_count": 8,
   "id": "6325ec95",
   "metadata": {},
   "outputs": [
    {
     "data": {
      "image/png": "[encoded data removed]",
      "text/plain": [
       "<Figure size 2160x720 with 1 Axes>"
      ]
     },
     "metadata": {},
     "output_type": "display_data"
    }
   ],
   "source": [
    "#Check the topic distribution\n",
    "sns.set(rc={'figure.figsize':(30,10)})\n",
    "ax = sns.countplot(x='topic',data=blogtext_df)\n",
    "ax.xaxis.set_tick_params(rotation=45)"
   ]
  },
  {
   "cell_type": "code",
   "execution_count": 9,
   "id": "2131d28a",
   "metadata": {},
   "outputs": [
    {
     "data": {
      "image/png": "[encoded data removed]",
      "text/plain": [
       "<Figure size 1440x720 with 1 Axes>"
      ]
     },
     "metadata": {},
     "output_type": "display_data"
    }
   ],
   "source": [
    "#Check the sign distribution\n",
    "sns.set(rc={'figure.figsize':(20,10)})\n",
    "ax = sns.countplot(x='sign',data=blogtext_df)\n",
    "ax.xaxis.set_tick_params(rotation = 45);"
   ]
  },
  {
   "cell_type": "code",
   "execution_count": 10,
   "id": "88294e6b",
   "metadata": {},
   "outputs": [
    {
     "data": {
      "image/png": "[encoded data removed]",
      "text/plain": [
       "<Figure size 2160x720 with 1 Axes>"
      ]
     },
     "metadata": {},
     "output_type": "display_data"
    }
   ],
   "source": [
    "#Check the topic distribution\n",
    "sns.set(rc={'figure.figsize':(30,10)})\n",
    "ax = sns.countplot(x='topic',data=blogtext_df)\n",
    "ax.xaxis.set_tick_params(rotation=45);"
   ]
  },
  {
   "cell_type": "code",
   "execution_count": 11,
   "id": "207f82c8",
   "metadata": {},
   "outputs": [],
   "source": [
    "sample_df = pd.read_csv(\"blogtext.csv\", nrows = 50000) #Taking 50000 samples for ease of computation\n",
    "\n",
    "# Data cleansing by removing unwanted characters, spaces, stop words etc. Convert text to lowercase"
   ]
  },
  {
   "cell_type": "code",
   "execution_count": 12,
   "id": "1b77c932",
   "metadata": {},
   "outputs": [],
   "source": [
    "# remove unwanted characters but keep the alphanum\n",
    "pattern = \"[^\\w ]\"\n",
    "sample_df.text = sample_df.text.apply(lambda s : re.sub(pattern,\"\",s))"
   ]
  },
  {
   "cell_type": "code",
   "execution_count": 13,
   "id": "7d55b4a9",
   "metadata": {},
   "outputs": [],
   "source": [
    "#convert all texts in text columns into lower case\n",
    "sample_df.text = sample_df.text.apply(lambda s: s.lower())"
   ]
  },
  {
   "cell_type": "code",
   "execution_count": 14,
   "id": "f8a0e52b",
   "metadata": {},
   "outputs": [],
   "source": [
    "#remove unwanted spaces\n",
    "sample_df.text = sample_df.text.apply(lambda s: s.strip())"
   ]
  },
  {
   "cell_type": "code",
   "execution_count": 15,
   "id": "2595c1d9",
   "metadata": {},
   "outputs": [
    {
     "name": "stderr",
     "output_type": "stream",
     "text": [
      "[nltk_data] Downloading package stopwords to\n",
      "[nltk_data]     /Users/bharat/nltk_data...\n",
      "[nltk_data]   Package stopwords is already up-to-date!\n"
     ]
    }
   ],
   "source": [
    "#remove stopwords\n",
    "import nltk\n",
    "nltk.download('stopwords')\n",
    "stopwords = set(stopwords.words('english'))\n",
    "sample_df.text = sample_df.text.apply(lambda x: ' '.join([word for word in x.split() if word not in stopwords]))"
   ]
  },
  {
   "cell_type": "code",
   "execution_count": 16,
   "id": "0150b506",
   "metadata": {},
   "outputs": [
    {
     "data": {
      "text/html": [
       "<div>\n",
       "<style scoped>\n",
       "    .dataframe tbody tr th:only-of-type {\n",
       "        vertical-align: middle;\n",
       "    }\n",
       "\n",
       "    .dataframe tbody tr th {\n",
       "        vertical-align: top;\n",
       "    }\n",
       "\n",
       "    .dataframe thead th {\n",
       "        text-align: right;\n",
       "    }\n",
       "</style>\n",
       "<table border=\"1\" class=\"dataframe\">\n",
       "  <thead>\n",
       "    <tr style=\"text-align: right;\">\n",
       "      <th></th>\n",
       "      <th>id</th>\n",
       "      <th>gender</th>\n",
       "      <th>age</th>\n",
       "      <th>topic</th>\n",
       "      <th>sign</th>\n",
       "      <th>date</th>\n",
       "      <th>text</th>\n",
       "    </tr>\n",
       "  </thead>\n",
       "  <tbody>\n",
       "    <tr>\n",
       "      <th>0</th>\n",
       "      <td>2059027</td>\n",
       "      <td>male</td>\n",
       "      <td>15</td>\n",
       "      <td>Student</td>\n",
       "      <td>Leo</td>\n",
       "      <td>14,May,2004</td>\n",
       "      <td>info found 100 pages 45 mb pdf files wait unti...</td>\n",
       "    </tr>\n",
       "    <tr>\n",
       "      <th>1</th>\n",
       "      <td>2059027</td>\n",
       "      <td>male</td>\n",
       "      <td>15</td>\n",
       "      <td>Student</td>\n",
       "      <td>Leo</td>\n",
       "      <td>13,May,2004</td>\n",
       "      <td>team members drewes van der laag urllink mail ...</td>\n",
       "    </tr>\n",
       "    <tr>\n",
       "      <th>2</th>\n",
       "      <td>2059027</td>\n",
       "      <td>male</td>\n",
       "      <td>15</td>\n",
       "      <td>Student</td>\n",
       "      <td>Leo</td>\n",
       "      <td>12,May,2004</td>\n",
       "      <td>het kader van kernfusie op aarde maak je eigen...</td>\n",
       "    </tr>\n",
       "    <tr>\n",
       "      <th>3</th>\n",
       "      <td>2059027</td>\n",
       "      <td>male</td>\n",
       "      <td>15</td>\n",
       "      <td>Student</td>\n",
       "      <td>Leo</td>\n",
       "      <td>12,May,2004</td>\n",
       "      <td>testing testing</td>\n",
       "    </tr>\n",
       "    <tr>\n",
       "      <th>4</th>\n",
       "      <td>3581210</td>\n",
       "      <td>male</td>\n",
       "      <td>33</td>\n",
       "      <td>InvestmentBanking</td>\n",
       "      <td>Aquarius</td>\n",
       "      <td>11,June,2004</td>\n",
       "      <td>thanks yahoos toolbar capture urls popupswhich...</td>\n",
       "    </tr>\n",
       "  </tbody>\n",
       "</table>\n",
       "</div>"
      ],
      "text/plain": [
       "        id gender  age              topic      sign          date  \\\n",
       "0  2059027   male   15            Student       Leo   14,May,2004   \n",
       "1  2059027   male   15            Student       Leo   13,May,2004   \n",
       "2  2059027   male   15            Student       Leo   12,May,2004   \n",
       "3  2059027   male   15            Student       Leo   12,May,2004   \n",
       "4  3581210   male   33  InvestmentBanking  Aquarius  11,June,2004   \n",
       "\n",
       "                                                text  \n",
       "0  info found 100 pages 45 mb pdf files wait unti...  \n",
       "1  team members drewes van der laag urllink mail ...  \n",
       "2  het kader van kernfusie op aarde maak je eigen...  \n",
       "3                                    testing testing  \n",
       "4  thanks yahoos toolbar capture urls popupswhich...  "
      ]
     },
     "execution_count": 16,
     "metadata": {},
     "output_type": "execute_result"
    }
   ],
   "source": [
    "#recheck data\n",
    "sample_df.head()"
   ]
  },
  {
   "cell_type": "markdown",
   "id": "fa2ecb1a",
   "metadata": {},
   "source": [
    "Exploratory Data Analysis on Sample\n",
    "\n"
   ]
  },
  {
   "cell_type": "code",
   "execution_count": 17,
   "id": "9ef305e7",
   "metadata": {},
   "outputs": [
    {
     "data": {
      "text/html": [
       "<div>\n",
       "<style scoped>\n",
       "    .dataframe tbody tr th:only-of-type {\n",
       "        vertical-align: middle;\n",
       "    }\n",
       "\n",
       "    .dataframe tbody tr th {\n",
       "        vertical-align: top;\n",
       "    }\n",
       "\n",
       "    .dataframe thead th {\n",
       "        text-align: right;\n",
       "    }\n",
       "</style>\n",
       "<table border=\"1\" class=\"dataframe\">\n",
       "  <thead>\n",
       "    <tr style=\"text-align: right;\">\n",
       "      <th></th>\n",
       "      <th>count</th>\n",
       "      <th>mean</th>\n",
       "      <th>std</th>\n",
       "      <th>min</th>\n",
       "      <th>25%</th>\n",
       "      <th>50%</th>\n",
       "      <th>75%</th>\n",
       "      <th>max</th>\n",
       "    </tr>\n",
       "  </thead>\n",
       "  <tbody>\n",
       "    <tr>\n",
       "      <th>id</th>\n",
       "      <td>50000.0</td>\n",
       "      <td>2.388443e+06</td>\n",
       "      <td>1.254200e+06</td>\n",
       "      <td>17944.0</td>\n",
       "      <td>1078077.0</td>\n",
       "      <td>2764903.0</td>\n",
       "      <td>3525620.0</td>\n",
       "      <td>4337133.0</td>\n",
       "    </tr>\n",
       "    <tr>\n",
       "      <th>age</th>\n",
       "      <td>50000.0</td>\n",
       "      <td>2.436214e+01</td>\n",
       "      <td>7.982836e+00</td>\n",
       "      <td>13.0</td>\n",
       "      <td>17.0</td>\n",
       "      <td>24.0</td>\n",
       "      <td>27.0</td>\n",
       "      <td>48.0</td>\n",
       "    </tr>\n",
       "  </tbody>\n",
       "</table>\n",
       "</div>"
      ],
      "text/plain": [
       "       count          mean           std      min        25%        50%  \\\n",
       "id   50000.0  2.388443e+06  1.254200e+06  17944.0  1078077.0  2764903.0   \n",
       "age  50000.0  2.436214e+01  7.982836e+00     13.0       17.0       24.0   \n",
       "\n",
       "           75%        max  \n",
       "id   3525620.0  4337133.0  \n",
       "age       27.0       48.0  "
      ]
     },
     "execution_count": 17,
     "metadata": {},
     "output_type": "execute_result"
    }
   ],
   "source": [
    "sample_df.describe(include = [np.number]).T"
   ]
  },
  {
   "cell_type": "code",
   "execution_count": 18,
   "id": "7bafc504",
   "metadata": {},
   "outputs": [
    {
     "name": "stdout",
     "output_type": "stream",
     "text": [
      "17    6859\n",
      "24    5746\n",
      "23    5518\n",
      "16    4156\n",
      "27    4094\n",
      "15    3508\n",
      "35    3365\n",
      "26    2869\n",
      "25    2837\n",
      "14    2043\n",
      "36    1985\n",
      "34    1886\n",
      "33    1654\n",
      "13     745\n",
      "39     412\n",
      "41     394\n",
      "46     330\n",
      "48     318\n",
      "37     310\n",
      "47     206\n",
      "38     196\n",
      "40     192\n",
      "43     150\n",
      "42      96\n",
      "45      93\n",
      "44      38\n",
      "Name: age, dtype: int64\n"
     ]
    }
   ],
   "source": [
    "print(sample_df.age.value_counts())"
   ]
  },
  {
   "cell_type": "code",
   "execution_count": 19,
   "id": "cf8414ae",
   "metadata": {},
   "outputs": [
    {
     "data": {
      "text/html": [
       "<div>\n",
       "<style scoped>\n",
       "    .dataframe tbody tr th:only-of-type {\n",
       "        vertical-align: middle;\n",
       "    }\n",
       "\n",
       "    .dataframe tbody tr th {\n",
       "        vertical-align: top;\n",
       "    }\n",
       "\n",
       "    .dataframe thead th {\n",
       "        text-align: right;\n",
       "    }\n",
       "</style>\n",
       "<table border=\"1\" class=\"dataframe\">\n",
       "  <thead>\n",
       "    <tr style=\"text-align: right;\">\n",
       "      <th></th>\n",
       "      <th>count</th>\n",
       "      <th>unique</th>\n",
       "      <th>top</th>\n",
       "      <th>freq</th>\n",
       "    </tr>\n",
       "  </thead>\n",
       "  <tbody>\n",
       "    <tr>\n",
       "      <th>gender</th>\n",
       "      <td>50000</td>\n",
       "      <td>2</td>\n",
       "      <td>male</td>\n",
       "      <td>25815</td>\n",
       "    </tr>\n",
       "    <tr>\n",
       "      <th>topic</th>\n",
       "      <td>50000</td>\n",
       "      <td>40</td>\n",
       "      <td>indUnk</td>\n",
       "      <td>17560</td>\n",
       "    </tr>\n",
       "    <tr>\n",
       "      <th>sign</th>\n",
       "      <td>50000</td>\n",
       "      <td>12</td>\n",
       "      <td>Aries</td>\n",
       "      <td>7795</td>\n",
       "    </tr>\n",
       "    <tr>\n",
       "      <th>date</th>\n",
       "      <td>50000</td>\n",
       "      <td>1180</td>\n",
       "      <td>05,August,2004</td>\n",
       "      <td>2600</td>\n",
       "    </tr>\n",
       "    <tr>\n",
       "      <th>text</th>\n",
       "      <td>50000</td>\n",
       "      <td>49008</td>\n",
       "      <td></td>\n",
       "      <td>203</td>\n",
       "    </tr>\n",
       "  </tbody>\n",
       "</table>\n",
       "</div>"
      ],
      "text/plain": [
       "        count unique             top   freq\n",
       "gender  50000      2            male  25815\n",
       "topic   50000     40          indUnk  17560\n",
       "sign    50000     12           Aries   7795\n",
       "date    50000   1180  05,August,2004   2600\n",
       "text    50000  49008                    203"
      ]
     },
     "execution_count": 19,
     "metadata": {},
     "output_type": "execute_result"
    }
   ],
   "source": [
    "sample_df.describe(include = [np.object]).T"
   ]
  },
  {
   "cell_type": "code",
   "execution_count": 20,
   "id": "4ad3be14",
   "metadata": {},
   "outputs": [
    {
     "data": {
      "text/plain": [
       "Index          128\n",
       "id          400000\n",
       "gender     3098370\n",
       "age         400000\n",
       "topic      3246913\n",
       "sign       3170411\n",
       "date       3503955\n",
       "text      37721996\n",
       "dtype: int64"
      ]
     },
     "execution_count": 20,
     "metadata": {},
     "output_type": "execute_result"
    }
   ],
   "source": [
    "## memory analysis\n",
    "\n",
    "sample_df.memory_usage(deep=True)"
   ]
  },
  {
   "cell_type": "code",
   "execution_count": 21,
   "id": "4f46d11b",
   "metadata": {},
   "outputs": [
    {
     "data": {
      "text/plain": [
       "male      25815\n",
       "female    24185\n",
       "Name: gender, dtype: int64"
      ]
     },
     "execution_count": 21,
     "metadata": {},
     "output_type": "execute_result"
    }
   ],
   "source": [
    "sample_df.gender.value_counts()"
   ]
  },
  {
   "cell_type": "code",
   "execution_count": 22,
   "id": "ef741b75",
   "metadata": {},
   "outputs": [
    {
     "data": {
      "text/plain": [
       "<AxesSubplot:xlabel='age', ylabel='count'>"
      ]
     },
     "execution_count": 22,
     "metadata": {},
     "output_type": "execute_result"
    },
    {
     "data": {
      "image/png": "[encoded data removed]",
      "text/plain": [
       "<Figure size 2160x720 with 1 Axes>"
      ]
     },
     "metadata": {},
     "output_type": "display_data"
    }
   ],
   "source": [
    "sns.countplot(x=\"age\", data=sample_df)"
   ]
  },
  {
   "cell_type": "code",
   "execution_count": 23,
   "id": "8ff9194e",
   "metadata": {},
   "outputs": [
    {
     "data": {
      "image/png": "[encoded data removed]",
      "text/plain": [
       "<Figure size 2160x720 with 1 Axes>"
      ]
     },
     "metadata": {},
     "output_type": "display_data"
    }
   ],
   "source": [
    "ax = sns.countplot(x=\"age\", hue=\"gender\", data=sample_df)\n",
    "ax.xaxis.set_tick_params(rotation=45);"
   ]
  },
  {
   "cell_type": "code",
   "execution_count": 24,
   "id": "9f2cd202",
   "metadata": {},
   "outputs": [
    {
     "data": {
      "image/png": "[encoded data removed]",
      "text/plain": [
       "<Figure size 2160x720 with 1 Axes>"
      ]
     },
     "metadata": {},
     "output_type": "display_data"
    }
   ],
   "source": [
    "ax = sns.countplot(x=\"topic\", hue=\"gender\", data=sample_df)\n",
    "ax.xaxis.set_tick_params(rotation=45);"
   ]
  },
  {
   "cell_type": "markdown",
   "id": "8d363970",
   "metadata": {},
   "source": [
    "Target/Label Merger and Transformation"
   ]
  },
  {
   "cell_type": "code",
   "execution_count": 25,
   "id": "57e71b3d",
   "metadata": {},
   "outputs": [],
   "source": [
    "sample_df['age'] = sample_df['age'].astype(str)\n",
    "sample_df['labels'] = sample_df.apply(lambda col : [col['gender'],col['age'],col['topic'],col['sign']], axis=1)"
   ]
  },
  {
   "cell_type": "code",
   "execution_count": 26,
   "id": "d16aca0f",
   "metadata": {},
   "outputs": [],
   "source": [
    "#drop the columns which were merged to form the label column\n",
    "sample_df.drop(columns=['gender','age','topic','sign', 'id', 'date'], axis=1, inplace=True)"
   ]
  },
  {
   "cell_type": "code",
   "execution_count": 27,
   "id": "d762185d",
   "metadata": {},
   "outputs": [
    {
     "data": {
      "text/html": [
       "<div>\n",
       "<style scoped>\n",
       "    .dataframe tbody tr th:only-of-type {\n",
       "        vertical-align: middle;\n",
       "    }\n",
       "\n",
       "    .dataframe tbody tr th {\n",
       "        vertical-align: top;\n",
       "    }\n",
       "\n",
       "    .dataframe thead th {\n",
       "        text-align: right;\n",
       "    }\n",
       "</style>\n",
       "<table border=\"1\" class=\"dataframe\">\n",
       "  <thead>\n",
       "    <tr style=\"text-align: right;\">\n",
       "      <th></th>\n",
       "      <th>text</th>\n",
       "      <th>labels</th>\n",
       "    </tr>\n",
       "  </thead>\n",
       "  <tbody>\n",
       "    <tr>\n",
       "      <th>0</th>\n",
       "      <td>info found 100 pages 45 mb pdf files wait unti...</td>\n",
       "      <td>[male, 15, Student, Leo]</td>\n",
       "    </tr>\n",
       "    <tr>\n",
       "      <th>1</th>\n",
       "      <td>team members drewes van der laag urllink mail ...</td>\n",
       "      <td>[male, 15, Student, Leo]</td>\n",
       "    </tr>\n",
       "    <tr>\n",
       "      <th>2</th>\n",
       "      <td>het kader van kernfusie op aarde maak je eigen...</td>\n",
       "      <td>[male, 15, Student, Leo]</td>\n",
       "    </tr>\n",
       "    <tr>\n",
       "      <th>3</th>\n",
       "      <td>testing testing</td>\n",
       "      <td>[male, 15, Student, Leo]</td>\n",
       "    </tr>\n",
       "    <tr>\n",
       "      <th>4</th>\n",
       "      <td>thanks yahoos toolbar capture urls popupswhich...</td>\n",
       "      <td>[male, 33, InvestmentBanking, Aquarius]</td>\n",
       "    </tr>\n",
       "  </tbody>\n",
       "</table>\n",
       "</div>"
      ],
      "text/plain": [
       "                                                text  \\\n",
       "0  info found 100 pages 45 mb pdf files wait unti...   \n",
       "1  team members drewes van der laag urllink mail ...   \n",
       "2  het kader van kernfusie op aarde maak je eigen...   \n",
       "3                                    testing testing   \n",
       "4  thanks yahoos toolbar capture urls popupswhich...   \n",
       "\n",
       "                                    labels  \n",
       "0                 [male, 15, Student, Leo]  \n",
       "1                 [male, 15, Student, Leo]  \n",
       "2                 [male, 15, Student, Leo]  \n",
       "3                 [male, 15, Student, Leo]  \n",
       "4  [male, 33, InvestmentBanking, Aquarius]  "
      ]
     },
     "execution_count": 27,
     "metadata": {},
     "output_type": "execute_result"
    }
   ],
   "source": [
    "sample_df.head()"
   ]
  },
  {
   "cell_type": "code",
   "execution_count": 28,
   "id": "c239bba2",
   "metadata": {},
   "outputs": [],
   "source": [
    "# Train and test split\n",
    "\n",
    "X= sample_df.text\n",
    "y = sample_df.labels\n",
    "X_train, X_test, y_train, y_test = train_test_split(X, y, random_state=42, test_size = 0.2)"
   ]
  },
  {
   "cell_type": "code",
   "execution_count": 29,
   "id": "d07c069b",
   "metadata": {},
   "outputs": [
    {
     "name": "stdout",
     "output_type": "stream",
     "text": [
      "shape of training set : (40000,)\n",
      "shape of test set : (10000,)\n"
     ]
    }
   ],
   "source": [
    "print(\"shape of training set :\", X_train.shape)\n",
    "print(\"shape of test set :\", X_test.shape)"
   ]
  },
  {
   "cell_type": "code",
   "execution_count": 31,
   "id": "3629b1bf",
   "metadata": {},
   "outputs": [
    {
     "data": {
      "text/plain": [
       "'interesting conversation dad morning talking koreans put money invariably lot real estate cash cash would include short term investments one year well savings accounts reason real estate makes money lot money ive seen surveys seoul real estate rising 1015 per year long stretches even taking account 1997 crisis referred imf crisis although imf bailed korea compare korean corporate bonds fell 9099 1997 modestly recovered local stock market represented kospi version dow jones index gone appreciably 1980s high 1000 points 800 points see urllink link see real estate makes sense back conversationi noted real big elite real estate investor 6 billion usd 5000000 see urllink converter properties dad seemed little flabbergasted heck need 5 million dollars dont need much retire maybe lot risk take real estate south korean asset example north toots horn louder make move country 5000000 usd worth 5 cents also denominated imf crisis dropped 50 visavis usd also make bad investment fall victim scamthe latest urllink good morning city projectyoure toast saw lady tv lost everything comment tears know like go rich person beggar one day one saberrattling north korea weak exchange rate little nest egg could almost wiped government almost zero help unemployed disabled otherwise disenfranchised workers role family important hereso money help family dont go first thus idea koreans go things investing different one apartment 7 urllink jeonse system supports well see 400000 usd apartment rent two systems use korea neither western ones except rare circumstances 1 renter signs 2year contract deposits half market value 200000 usd owner monthly rent paid owner invest korean treasury bills 45 per year thats monthly rentreturn 750 end term 200000 usd returned renter 2 renter signs 1year 2year contract deposits 1020 market value property 1000020000 usd plus monthly rent 400600 month cases value property increases decreases jeonse need toppedup partially refunded course im using usd save 0 key help foreigners reference better thus buy place 400000 turn around rent get 200000 like buy another place whatever since mortgages korea kind cash society although homeequity lines credit system bit different key course real estate prices keep going'"
      ]
     },
     "execution_count": 31,
     "metadata": {},
     "output_type": "execute_result"
    }
   ],
   "source": [
    "X_train[5]"
   ]
  },
  {
   "cell_type": "code",
   "execution_count": 32,
   "id": "af7bcf1d",
   "metadata": {},
   "outputs": [
    {
     "data": {
      "text/plain": [
       "['male', '33', 'InvestmentBanking', 'Aquarius']"
      ]
     },
     "execution_count": 32,
     "metadata": {},
     "output_type": "execute_result"
    }
   ],
   "source": [
    "y_train[5]"
   ]
  },
  {
   "cell_type": "markdown",
   "id": "38681212",
   "metadata": {},
   "source": [
    "Vectorisation\n",
    "\n",
    "Count Vectorizer on Bag of Words"
   ]
  },
  {
   "cell_type": "code",
   "execution_count": 33,
   "id": "bdf5dcbc",
   "metadata": {},
   "outputs": [],
   "source": [
    "ctv = CountVectorizer(analyzer='word', token_pattern=r'\\w{1,}', \n",
    "                      ngram_range=(1, 3), stop_words = 'english')\n",
    "corpus = list(X_train)+list(X_test)"
   ]
  },
  {
   "cell_type": "code",
   "execution_count": 34,
   "id": "39991d0f",
   "metadata": {},
   "outputs": [
    {
     "data": {
      "text/html": [
       "<style>#sk-container-id-1 {color: black;background-color: white;}#sk-container-id-1 pre{padding: 0;}#sk-container-id-1 div.sk-toggleable {background-color: white;}#sk-container-id-1 label.sk-toggleable__label {cursor: pointer;display: block;width: 100%;margin-bottom: 0;padding: 0.3em;box-sizing: border-box;text-align: center;}#sk-container-id-1 label.sk-toggleable__label-arrow:before {content: \"▸\";float: left;margin-right: 0.25em;color: #696969;}#sk-container-id-1 label.sk-toggleable__label-arrow:hover:before {color: black;}#sk-container-id-1 div.sk-estimator:hover label.sk-toggleable__label-arrow:before {color: black;}#sk-container-id-1 div.sk-toggleable__content {max-height: 0;max-width: 0;overflow: hidden;text-align: left;background-color: #f0f8ff;}#sk-container-id-1 div.sk-toggleable__content pre {margin: 0.2em;color: black;border-radius: 0.25em;background-color: #f0f8ff;}#sk-container-id-1 input.sk-toggleable__control:checked~div.sk-toggleable__content {max-height: 200px;max-width: 100%;overflow: auto;}#sk-container-id-1 input.sk-toggleable__control:checked~label.sk-toggleable__label-arrow:before {content: \"▾\";}#sk-container-id-1 div.sk-estimator input.sk-toggleable__control:checked~label.sk-toggleable__label {background-color: #d4ebff;}#sk-container-id-1 div.sk-label input.sk-toggleable__control:checked~label.sk-toggleable__label {background-color: #d4ebff;}#sk-container-id-1 input.sk-hidden--visually {border: 0;clip: rect(1px 1px 1px 1px);clip: rect(1px, 1px, 1px, 1px);height: 1px;margin: -1px;overflow: hidden;padding: 0;position: absolute;width: 1px;}#sk-container-id-1 div.sk-estimator {font-family: monospace;background-color: #f0f8ff;border: 1px dotted black;border-radius: 0.25em;box-sizing: border-box;margin-bottom: 0.5em;}#sk-container-id-1 div.sk-estimator:hover {background-color: #d4ebff;}#sk-container-id-1 div.sk-parallel-item::after {content: \"\";width: 100%;border-bottom: 1px solid gray;flex-grow: 1;}#sk-container-id-1 div.sk-label:hover label.sk-toggleable__label {background-color: #d4ebff;}#sk-container-id-1 div.sk-serial::before {content: \"\";position: absolute;border-left: 1px solid gray;box-sizing: border-box;top: 0;bottom: 0;left: 50%;z-index: 0;}#sk-container-id-1 div.sk-serial {display: flex;flex-direction: column;align-items: center;background-color: white;padding-right: 0.2em;padding-left: 0.2em;position: relative;}#sk-container-id-1 div.sk-item {position: relative;z-index: 1;}#sk-container-id-1 div.sk-parallel {display: flex;align-items: stretch;justify-content: center;background-color: white;position: relative;}#sk-container-id-1 div.sk-item::before, #sk-container-id-1 div.sk-parallel-item::before {content: \"\";position: absolute;border-left: 1px solid gray;box-sizing: border-box;top: 0;bottom: 0;left: 50%;z-index: -1;}#sk-container-id-1 div.sk-parallel-item {display: flex;flex-direction: column;z-index: 1;position: relative;background-color: white;}#sk-container-id-1 div.sk-parallel-item:first-child::after {align-self: flex-end;width: 50%;}#sk-container-id-1 div.sk-parallel-item:last-child::after {align-self: flex-start;width: 50%;}#sk-container-id-1 div.sk-parallel-item:only-child::after {width: 0;}#sk-container-id-1 div.sk-dashed-wrapped {border: 1px dashed gray;margin: 0 0.4em 0.5em 0.4em;box-sizing: border-box;padding-bottom: 0.4em;background-color: white;}#sk-container-id-1 div.sk-label label {font-family: monospace;font-weight: bold;display: inline-block;line-height: 1.2em;}#sk-container-id-1 div.sk-label-container {text-align: center;}#sk-container-id-1 div.sk-container {/* jupyter's `normalize.less` sets `[hidden] { display: none; }` but bootstrap.min.css set `[hidden] { display: none !important; }` so we also need the `!important` here to be able to override the default hidden behavior on the sphinx rendered scikit-learn.org. See: https://github.com/scikit-learn/scikit-learn/issues/21755 */display: inline-block !important;position: relative;}#sk-container-id-1 div.sk-text-repr-fallback {display: none;}</style><div id=\"sk-container-id-1\" class=\"sk-top-container\"><div class=\"sk-text-repr-fallback\"><pre>CountVectorizer(ngram_range=(1, 3), stop_words=&#x27;english&#x27;,\n",
       "                token_pattern=&#x27;\\\\w{1,}&#x27;)</pre><b>In a Jupyter environment, please rerun this cell to show the HTML representation or trust the notebook. <br />On GitHub, the HTML representation is unable to render, please try loading this page with nbviewer.org.</b></div><div class=\"sk-container\" hidden><div class=\"sk-item\"><div class=\"sk-estimator sk-toggleable\"><input class=\"sk-toggleable__control sk-hidden--visually\" id=\"sk-estimator-id-1\" type=\"checkbox\" checked><label for=\"sk-estimator-id-1\" class=\"sk-toggleable__label sk-toggleable__label-arrow\">CountVectorizer</label><div class=\"sk-toggleable__content\"><pre>CountVectorizer(ngram_range=(1, 3), stop_words=&#x27;english&#x27;,\n",
       "                token_pattern=&#x27;\\\\w{1,}&#x27;)</pre></div></div></div></div></div>"
      ],
      "text/plain": [
       "CountVectorizer(ngram_range=(1, 3), stop_words='english',\n",
       "                token_pattern='\\\\w{1,}')"
      ]
     },
     "execution_count": 34,
     "metadata": {},
     "output_type": "execute_result"
    }
   ],
   "source": [
    "ctv.fit(corpus)"
   ]
  },
  {
   "cell_type": "code",
   "execution_count": 35,
   "id": "69ade087",
   "metadata": {},
   "outputs": [],
   "source": [
    "xtrain_ctv = ctv.transform(X_train)"
   ]
  },
  {
   "cell_type": "code",
   "execution_count": 36,
   "id": "b690b17b",
   "metadata": {},
   "outputs": [],
   "source": [
    "xtest_ctv = ctv.transform(X_test)"
   ]
  },
  {
   "cell_type": "code",
   "execution_count": 37,
   "id": "8aaea48e",
   "metadata": {},
   "outputs": [
    {
     "name": "stdout",
     "output_type": "stream",
     "text": [
      "7317901\n"
     ]
    }
   ],
   "source": [
    "print(len(ctv.vocabulary_))"
   ]
  },
  {
   "cell_type": "code",
   "execution_count": 38,
   "id": "6ac6a6ca",
   "metadata": {},
   "outputs": [
    {
     "data": {
      "text/plain": [
       "['0',\n",
       " '0 0',\n",
       " '0 0 0',\n",
       " '0 0 1',\n",
       " '0 0 ___',\n",
       " '0 0 draw',\n",
       " '0 0 h',\n",
       " '0 0 italy',\n",
       " '0 0 switzerland',\n",
       " '0 0 theos']"
      ]
     },
     "execution_count": 38,
     "metadata": {},
     "output_type": "execute_result"
    }
   ],
   "source": [
    "ctv.get_feature_names()[:10]"
   ]
  },
  {
   "cell_type": "markdown",
   "id": "ad051c96",
   "metadata": {},
   "source": [
    "TF-IDF (Term Frequency - Inverse Document Frequency)"
   ]
  },
  {
   "cell_type": "code",
   "execution_count": 39,
   "id": "80123267",
   "metadata": {},
   "outputs": [],
   "source": [
    "tfv = TfidfVectorizer(min_df=3,  max_features=None, \n",
    "                      strip_accents='unicode', analyzer='word',token_pattern=r'\\w{1,}',\n",
    "                      ngram_range=(1, 3), use_idf=1,smooth_idf=1,sublinear_tf=1,\n",
    "                      stop_words = 'english')\n",
    "\n",
    "\n",
    "#Fitting TF-IDF to both training and test sets (semi-supervised learning)\n",
    "tfv.fit(list(X_train) + list(X_test))\n",
    "xtrain_tfv =  tfv.transform(X_train) \n",
    "xvalid_tfv = tfv.transform(X_test)"
   ]
  },
  {
   "cell_type": "markdown",
   "id": "bb4ef7b2",
   "metadata": {},
   "source": [
    "Create a dictionary for the count of every label"
   ]
  },
  {
   "cell_type": "code",
   "execution_count": 40,
   "id": "ed723c8b",
   "metadata": {},
   "outputs": [
    {
     "data": {
      "text/plain": [
       "{'male': 25815,\n",
       " '15': 3508,\n",
       " 'Student': 10660,\n",
       " 'Leo': 3904,\n",
       " '33': 1654,\n",
       " 'InvestmentBanking': 85,\n",
       " 'Aquarius': 4784,\n",
       " 'female': 24185,\n",
       " '14': 2043,\n",
       " 'indUnk': 17560,\n",
       " 'Aries': 7795,\n",
       " '25': 2837,\n",
       " 'Capricorn': 3819,\n",
       " '17': 6859,\n",
       " 'Gemini': 2558,\n",
       " '23': 5518,\n",
       " 'Non-Profit': 491,\n",
       " 'Cancer': 4589,\n",
       " 'Banking': 283,\n",
       " '37': 310,\n",
       " 'Sagittarius': 4571,\n",
       " '26': 2869,\n",
       " '24': 5746,\n",
       " 'Scorpio': 3243,\n",
       " '27': 4094,\n",
       " 'Education': 2646,\n",
       " '45': 93,\n",
       " 'Engineering': 1402,\n",
       " 'Libra': 4378,\n",
       " 'Science': 705,\n",
       " '34': 1886,\n",
       " '41': 394,\n",
       " 'Communications-Media': 1603,\n",
       " 'BusinessServices': 416,\n",
       " 'Sports-Recreation': 120,\n",
       " 'Virgo': 2827,\n",
       " 'Taurus': 3390,\n",
       " 'Arts': 1817,\n",
       " 'Pisces': 4142,\n",
       " '44': 38,\n",
       " '16': 4156,\n",
       " 'Internet': 1420,\n",
       " 'Museums-Libraries': 285,\n",
       " 'Accounting': 364,\n",
       " '39': 412,\n",
       " '35': 3365,\n",
       " 'Technology': 4379,\n",
       " '36': 1985,\n",
       " 'Law': 308,\n",
       " '46': 330,\n",
       " 'Consulting': 243,\n",
       " 'Automotive': 116,\n",
       " '42': 96,\n",
       " 'Religion': 258,\n",
       " '13': 745,\n",
       " 'Fashion': 1805,\n",
       " '38': 196,\n",
       " '43': 150,\n",
       " 'Publishing': 207,\n",
       " '40': 192,\n",
       " 'Marketing': 414,\n",
       " 'LawEnforcement-Security': 125,\n",
       " 'HumanResources': 79,\n",
       " 'Telecommunications': 12,\n",
       " 'Military': 194,\n",
       " 'Government': 599,\n",
       " 'Transportation': 196,\n",
       " 'Architecture': 70,\n",
       " 'Advertising': 273,\n",
       " '47': 206,\n",
       " 'Agriculture': 78,\n",
       " 'Biotech': 101,\n",
       " 'RealEstate': 17,\n",
       " 'Manufacturing': 441,\n",
       " '48': 318,\n",
       " 'Construction': 28,\n",
       " 'Chemicals': 75,\n",
       " 'Maritime': 54,\n",
       " 'Tourism': 65,\n",
       " 'Environment': 6}"
      ]
     },
     "execution_count": 40,
     "metadata": {},
     "output_type": "execute_result"
    }
   ],
   "source": [
    "label_counts=dict()\n",
    "\n",
    "for labels in sample_df.labels.values:\n",
    "    for label in labels:\n",
    "        if label in label_counts:\n",
    "            label_counts[str(label)]+=1\n",
    "        else:\n",
    "            label_counts[str(label)]=1\n",
    "        \n",
    "label_counts"
   ]
  },
  {
   "cell_type": "markdown",
   "id": "0562523a",
   "metadata": {},
   "source": [
    "Use Multilabel Binarizer to Transform the Labels"
   ]
  },
  {
   "cell_type": "code",
   "execution_count": 41,
   "id": "88242249",
   "metadata": {},
   "outputs": [],
   "source": [
    "# Transform between iterable of iterables and a multilabel format\n",
    "# Transform labels in a binary form and the prediction will be a mask of 0s and 1s\n",
    "binarizer=MultiLabelBinarizer(classes=sorted(label_counts.keys()))\n",
    "\n",
    "\n",
    "y_train = binarizer.fit_transform(y_train)\n",
    "y_test = binarizer.transform(y_test)"
   ]
  },
  {
   "cell_type": "code",
   "execution_count": 42,
   "id": "20675423",
   "metadata": {
    "scrolled": true
   },
   "outputs": [
    {
     "name": "stderr",
     "output_type": "stream",
     "text": [
      "/Users/bharat/opt/anaconda3/lib/python3.9/site-packages/sklearn/linear_model/_sag.py:350: ConvergenceWarning: The max_iter was reached which means the coef_ did not converge\n",
      "  warnings.warn(\n",
      "/Users/bharat/opt/anaconda3/lib/python3.9/site-packages/sklearn/linear_model/_sag.py:350: ConvergenceWarning: The max_iter was reached which means the coef_ did not converge\n",
      "  warnings.warn(\n",
      "/Users/bharat/opt/anaconda3/lib/python3.9/site-packages/sklearn/linear_model/_sag.py:350: ConvergenceWarning: The max_iter was reached which means the coef_ did not converge\n",
      "  warnings.warn(\n",
      "/Users/bharat/opt/anaconda3/lib/python3.9/site-packages/sklearn/linear_model/_sag.py:350: ConvergenceWarning: The max_iter was reached which means the coef_ did not converge\n",
      "  warnings.warn(\n",
      "/Users/bharat/opt/anaconda3/lib/python3.9/site-packages/sklearn/linear_model/_sag.py:350: ConvergenceWarning: The max_iter was reached which means the coef_ did not converge\n",
      "  warnings.warn(\n",
      "/Users/bharat/opt/anaconda3/lib/python3.9/site-packages/sklearn/linear_model/_sag.py:350: ConvergenceWarning: The max_iter was reached which means the coef_ did not converge\n",
      "  warnings.warn(\n",
      "/Users/bharat/opt/anaconda3/lib/python3.9/site-packages/sklearn/linear_model/_sag.py:350: ConvergenceWarning: The max_iter was reached which means the coef_ did not converge\n",
      "  warnings.warn(\n",
      "/Users/bharat/opt/anaconda3/lib/python3.9/site-packages/sklearn/linear_model/_sag.py:350: ConvergenceWarning: The max_iter was reached which means the coef_ did not converge\n",
      "  warnings.warn(\n",
      "/Users/bharat/opt/anaconda3/lib/python3.9/site-packages/sklearn/linear_model/_sag.py:350: ConvergenceWarning: The max_iter was reached which means the coef_ did not converge\n",
      "  warnings.warn(\n",
      "/Users/bharat/opt/anaconda3/lib/python3.9/site-packages/sklearn/linear_model/_sag.py:350: ConvergenceWarning: The max_iter was reached which means the coef_ did not converge\n",
      "  warnings.warn(\n",
      "/Users/bharat/opt/anaconda3/lib/python3.9/site-packages/sklearn/linear_model/_sag.py:350: ConvergenceWarning: The max_iter was reached which means the coef_ did not converge\n",
      "  warnings.warn(\n",
      "/Users/bharat/opt/anaconda3/lib/python3.9/site-packages/sklearn/linear_model/_sag.py:350: ConvergenceWarning: The max_iter was reached which means the coef_ did not converge\n",
      "  warnings.warn(\n",
      "/Users/bharat/opt/anaconda3/lib/python3.9/site-packages/sklearn/linear_model/_sag.py:350: ConvergenceWarning: The max_iter was reached which means the coef_ did not converge\n",
      "  warnings.warn(\n",
      "/Users/bharat/opt/anaconda3/lib/python3.9/site-packages/sklearn/linear_model/_sag.py:350: ConvergenceWarning: The max_iter was reached which means the coef_ did not converge\n",
      "  warnings.warn(\n",
      "/Users/bharat/opt/anaconda3/lib/python3.9/site-packages/sklearn/linear_model/_sag.py:350: ConvergenceWarning: The max_iter was reached which means the coef_ did not converge\n",
      "  warnings.warn(\n",
      "/Users/bharat/opt/anaconda3/lib/python3.9/site-packages/sklearn/linear_model/_sag.py:350: ConvergenceWarning: The max_iter was reached which means the coef_ did not converge\n",
      "  warnings.warn(\n",
      "/Users/bharat/opt/anaconda3/lib/python3.9/site-packages/sklearn/linear_model/_sag.py:350: ConvergenceWarning: The max_iter was reached which means the coef_ did not converge\n",
      "  warnings.warn(\n",
      "/Users/bharat/opt/anaconda3/lib/python3.9/site-packages/sklearn/linear_model/_sag.py:350: ConvergenceWarning: The max_iter was reached which means the coef_ did not converge\n",
      "  warnings.warn(\n",
      "/Users/bharat/opt/anaconda3/lib/python3.9/site-packages/sklearn/linear_model/_sag.py:350: ConvergenceWarning: The max_iter was reached which means the coef_ did not converge\n",
      "  warnings.warn(\n",
      "/Users/bharat/opt/anaconda3/lib/python3.9/site-packages/sklearn/linear_model/_sag.py:350: ConvergenceWarning: The max_iter was reached which means the coef_ did not converge\n",
      "  warnings.warn(\n",
      "/Users/bharat/opt/anaconda3/lib/python3.9/site-packages/sklearn/linear_model/_sag.py:350: ConvergenceWarning: The max_iter was reached which means the coef_ did not converge\n",
      "  warnings.warn(\n",
      "/Users/bharat/opt/anaconda3/lib/python3.9/site-packages/sklearn/linear_model/_sag.py:350: ConvergenceWarning: The max_iter was reached which means the coef_ did not converge\n",
      "  warnings.warn(\n",
      "/Users/bharat/opt/anaconda3/lib/python3.9/site-packages/sklearn/linear_model/_sag.py:350: ConvergenceWarning: The max_iter was reached which means the coef_ did not converge\n",
      "  warnings.warn(\n",
      "/Users/bharat/opt/anaconda3/lib/python3.9/site-packages/sklearn/linear_model/_sag.py:350: ConvergenceWarning: The max_iter was reached which means the coef_ did not converge\n",
      "  warnings.warn(\n",
      "/Users/bharat/opt/anaconda3/lib/python3.9/site-packages/sklearn/linear_model/_sag.py:350: ConvergenceWarning: The max_iter was reached which means the coef_ did not converge\n",
      "  warnings.warn(\n",
      "/Users/bharat/opt/anaconda3/lib/python3.9/site-packages/sklearn/linear_model/_sag.py:350: ConvergenceWarning: The max_iter was reached which means the coef_ did not converge\n",
      "  warnings.warn(\n",
      "/Users/bharat/opt/anaconda3/lib/python3.9/site-packages/sklearn/linear_model/_sag.py:350: ConvergenceWarning: The max_iter was reached which means the coef_ did not converge\n",
      "  warnings.warn(\n",
      "/Users/bharat/opt/anaconda3/lib/python3.9/site-packages/sklearn/linear_model/_sag.py:350: ConvergenceWarning: The max_iter was reached which means the coef_ did not converge\n",
      "  warnings.warn(\n",
      "/Users/bharat/opt/anaconda3/lib/python3.9/site-packages/sklearn/linear_model/_sag.py:350: ConvergenceWarning: The max_iter was reached which means the coef_ did not converge\n",
      "  warnings.warn(\n",
      "/Users/bharat/opt/anaconda3/lib/python3.9/site-packages/sklearn/linear_model/_sag.py:350: ConvergenceWarning: The max_iter was reached which means the coef_ did not converge\n",
      "  warnings.warn(\n",
      "/Users/bharat/opt/anaconda3/lib/python3.9/site-packages/sklearn/linear_model/_sag.py:350: ConvergenceWarning: The max_iter was reached which means the coef_ did not converge\n",
      "  warnings.warn(\n",
      "/Users/bharat/opt/anaconda3/lib/python3.9/site-packages/sklearn/linear_model/_sag.py:350: ConvergenceWarning: The max_iter was reached which means the coef_ did not converge\n",
      "  warnings.warn(\n",
      "/Users/bharat/opt/anaconda3/lib/python3.9/site-packages/sklearn/linear_model/_sag.py:350: ConvergenceWarning: The max_iter was reached which means the coef_ did not converge\n",
      "  warnings.warn(\n",
      "/Users/bharat/opt/anaconda3/lib/python3.9/site-packages/sklearn/linear_model/_sag.py:350: ConvergenceWarning: The max_iter was reached which means the coef_ did not converge\n",
      "  warnings.warn(\n",
      "/Users/bharat/opt/anaconda3/lib/python3.9/site-packages/sklearn/linear_model/_sag.py:350: ConvergenceWarning: The max_iter was reached which means the coef_ did not converge\n",
      "  warnings.warn(\n",
      "/Users/bharat/opt/anaconda3/lib/python3.9/site-packages/sklearn/linear_model/_sag.py:350: ConvergenceWarning: The max_iter was reached which means the coef_ did not converge\n",
      "  warnings.warn(\n",
      "/Users/bharat/opt/anaconda3/lib/python3.9/site-packages/sklearn/linear_model/_sag.py:350: ConvergenceWarning: The max_iter was reached which means the coef_ did not converge\n",
      "  warnings.warn(\n",
      "/Users/bharat/opt/anaconda3/lib/python3.9/site-packages/sklearn/linear_model/_sag.py:350: ConvergenceWarning: The max_iter was reached which means the coef_ did not converge\n",
      "  warnings.warn(\n",
      "/Users/bharat/opt/anaconda3/lib/python3.9/site-packages/sklearn/linear_model/_sag.py:350: ConvergenceWarning: The max_iter was reached which means the coef_ did not converge\n",
      "  warnings.warn(\n",
      "/Users/bharat/opt/anaconda3/lib/python3.9/site-packages/sklearn/linear_model/_sag.py:350: ConvergenceWarning: The max_iter was reached which means the coef_ did not converge\n",
      "  warnings.warn(\n",
      "/Users/bharat/opt/anaconda3/lib/python3.9/site-packages/sklearn/linear_model/_sag.py:350: ConvergenceWarning: The max_iter was reached which means the coef_ did not converge\n",
      "  warnings.warn(\n",
      "/Users/bharat/opt/anaconda3/lib/python3.9/site-packages/sklearn/linear_model/_sag.py:350: ConvergenceWarning: The max_iter was reached which means the coef_ did not converge\n",
      "  warnings.warn(\n",
      "/Users/bharat/opt/anaconda3/lib/python3.9/site-packages/sklearn/linear_model/_sag.py:350: ConvergenceWarning: The max_iter was reached which means the coef_ did not converge\n",
      "  warnings.warn(\n",
      "/Users/bharat/opt/anaconda3/lib/python3.9/site-packages/sklearn/linear_model/_sag.py:350: ConvergenceWarning: The max_iter was reached which means the coef_ did not converge\n",
      "  warnings.warn(\n",
      "/Users/bharat/opt/anaconda3/lib/python3.9/site-packages/sklearn/linear_model/_sag.py:350: ConvergenceWarning: The max_iter was reached which means the coef_ did not converge\n",
      "  warnings.warn(\n",
      "/Users/bharat/opt/anaconda3/lib/python3.9/site-packages/sklearn/linear_model/_sag.py:350: ConvergenceWarning: The max_iter was reached which means the coef_ did not converge\n",
      "  warnings.warn(\n",
      "/Users/bharat/opt/anaconda3/lib/python3.9/site-packages/sklearn/linear_model/_sag.py:350: ConvergenceWarning: The max_iter was reached which means the coef_ did not converge\n",
      "  warnings.warn(\n",
      "/Users/bharat/opt/anaconda3/lib/python3.9/site-packages/sklearn/linear_model/_sag.py:350: ConvergenceWarning: The max_iter was reached which means the coef_ did not converge\n",
      "  warnings.warn(\n",
      "/Users/bharat/opt/anaconda3/lib/python3.9/site-packages/sklearn/linear_model/_sag.py:350: ConvergenceWarning: The max_iter was reached which means the coef_ did not converge\n",
      "  warnings.warn(\n",
      "/Users/bharat/opt/anaconda3/lib/python3.9/site-packages/sklearn/linear_model/_sag.py:350: ConvergenceWarning: The max_iter was reached which means the coef_ did not converge\n",
      "  warnings.warn(\n",
      "/Users/bharat/opt/anaconda3/lib/python3.9/site-packages/sklearn/linear_model/_sag.py:350: ConvergenceWarning: The max_iter was reached which means the coef_ did not converge\n",
      "  warnings.warn(\n",
      "/Users/bharat/opt/anaconda3/lib/python3.9/site-packages/sklearn/linear_model/_sag.py:350: ConvergenceWarning: The max_iter was reached which means the coef_ did not converge\n",
      "  warnings.warn(\n",
      "/Users/bharat/opt/anaconda3/lib/python3.9/site-packages/sklearn/linear_model/_sag.py:350: ConvergenceWarning: The max_iter was reached which means the coef_ did not converge\n",
      "  warnings.warn(\n",
      "/Users/bharat/opt/anaconda3/lib/python3.9/site-packages/sklearn/linear_model/_sag.py:350: ConvergenceWarning: The max_iter was reached which means the coef_ did not converge\n",
      "  warnings.warn(\n",
      "/Users/bharat/opt/anaconda3/lib/python3.9/site-packages/sklearn/linear_model/_sag.py:350: ConvergenceWarning: The max_iter was reached which means the coef_ did not converge\n",
      "  warnings.warn(\n",
      "/Users/bharat/opt/anaconda3/lib/python3.9/site-packages/sklearn/linear_model/_sag.py:350: ConvergenceWarning: The max_iter was reached which means the coef_ did not converge\n",
      "  warnings.warn(\n",
      "/Users/bharat/opt/anaconda3/lib/python3.9/site-packages/sklearn/linear_model/_sag.py:350: ConvergenceWarning: The max_iter was reached which means the coef_ did not converge\n",
      "  warnings.warn(\n",
      "/Users/bharat/opt/anaconda3/lib/python3.9/site-packages/sklearn/linear_model/_sag.py:350: ConvergenceWarning: The max_iter was reached which means the coef_ did not converge\n",
      "  warnings.warn(\n",
      "/Users/bharat/opt/anaconda3/lib/python3.9/site-packages/sklearn/linear_model/_sag.py:350: ConvergenceWarning: The max_iter was reached which means the coef_ did not converge\n",
      "  warnings.warn(\n",
      "/Users/bharat/opt/anaconda3/lib/python3.9/site-packages/sklearn/linear_model/_sag.py:350: ConvergenceWarning: The max_iter was reached which means the coef_ did not converge\n",
      "  warnings.warn(\n",
      "/Users/bharat/opt/anaconda3/lib/python3.9/site-packages/sklearn/linear_model/_sag.py:350: ConvergenceWarning: The max_iter was reached which means the coef_ did not converge\n",
      "  warnings.warn(\n",
      "/Users/bharat/opt/anaconda3/lib/python3.9/site-packages/sklearn/linear_model/_sag.py:350: ConvergenceWarning: The max_iter was reached which means the coef_ did not converge\n",
      "  warnings.warn(\n",
      "/Users/bharat/opt/anaconda3/lib/python3.9/site-packages/sklearn/linear_model/_sag.py:350: ConvergenceWarning: The max_iter was reached which means the coef_ did not converge\n",
      "  warnings.warn(\n",
      "/Users/bharat/opt/anaconda3/lib/python3.9/site-packages/sklearn/linear_model/_sag.py:350: ConvergenceWarning: The max_iter was reached which means the coef_ did not converge\n",
      "  warnings.warn(\n",
      "/Users/bharat/opt/anaconda3/lib/python3.9/site-packages/sklearn/linear_model/_sag.py:350: ConvergenceWarning: The max_iter was reached which means the coef_ did not converge\n",
      "  warnings.warn(\n",
      "/Users/bharat/opt/anaconda3/lib/python3.9/site-packages/sklearn/linear_model/_sag.py:350: ConvergenceWarning: The max_iter was reached which means the coef_ did not converge\n",
      "  warnings.warn(\n",
      "/Users/bharat/opt/anaconda3/lib/python3.9/site-packages/sklearn/linear_model/_sag.py:350: ConvergenceWarning: The max_iter was reached which means the coef_ did not converge\n",
      "  warnings.warn(\n",
      "/Users/bharat/opt/anaconda3/lib/python3.9/site-packages/sklearn/linear_model/_sag.py:350: ConvergenceWarning: The max_iter was reached which means the coef_ did not converge\n",
      "  warnings.warn(\n",
      "/Users/bharat/opt/anaconda3/lib/python3.9/site-packages/sklearn/linear_model/_sag.py:350: ConvergenceWarning: The max_iter was reached which means the coef_ did not converge\n",
      "  warnings.warn(\n",
      "/Users/bharat/opt/anaconda3/lib/python3.9/site-packages/sklearn/linear_model/_sag.py:350: ConvergenceWarning: The max_iter was reached which means the coef_ did not converge\n",
      "  warnings.warn(\n",
      "/Users/bharat/opt/anaconda3/lib/python3.9/site-packages/sklearn/linear_model/_sag.py:350: ConvergenceWarning: The max_iter was reached which means the coef_ did not converge\n",
      "  warnings.warn(\n",
      "/Users/bharat/opt/anaconda3/lib/python3.9/site-packages/sklearn/linear_model/_sag.py:350: ConvergenceWarning: The max_iter was reached which means the coef_ did not converge\n",
      "  warnings.warn(\n",
      "/Users/bharat/opt/anaconda3/lib/python3.9/site-packages/sklearn/linear_model/_sag.py:350: ConvergenceWarning: The max_iter was reached which means the coef_ did not converge\n",
      "  warnings.warn(\n",
      "/Users/bharat/opt/anaconda3/lib/python3.9/site-packages/sklearn/linear_model/_sag.py:350: ConvergenceWarning: The max_iter was reached which means the coef_ did not converge\n",
      "  warnings.warn(\n",
      "/Users/bharat/opt/anaconda3/lib/python3.9/site-packages/sklearn/linear_model/_sag.py:350: ConvergenceWarning: The max_iter was reached which means the coef_ did not converge\n",
      "  warnings.warn(\n",
      "/Users/bharat/opt/anaconda3/lib/python3.9/site-packages/sklearn/linear_model/_sag.py:350: ConvergenceWarning: The max_iter was reached which means the coef_ did not converge\n",
      "  warnings.warn(\n",
      "/Users/bharat/opt/anaconda3/lib/python3.9/site-packages/sklearn/linear_model/_sag.py:350: ConvergenceWarning: The max_iter was reached which means the coef_ did not converge\n",
      "  warnings.warn(\n",
      "/Users/bharat/opt/anaconda3/lib/python3.9/site-packages/sklearn/linear_model/_sag.py:350: ConvergenceWarning: The max_iter was reached which means the coef_ did not converge\n",
      "  warnings.warn(\n",
      "/Users/bharat/opt/anaconda3/lib/python3.9/site-packages/sklearn/linear_model/_sag.py:350: ConvergenceWarning: The max_iter was reached which means the coef_ did not converge\n",
      "  warnings.warn(\n",
      "/Users/bharat/opt/anaconda3/lib/python3.9/site-packages/sklearn/linear_model/_sag.py:350: ConvergenceWarning: The max_iter was reached which means the coef_ did not converge\n",
      "  warnings.warn(\n"
     ]
    }
   ],
   "source": [
    "# Using pipeline for applying logistic regression and one vs rest classifier\n",
    "LogReg_pipeline = Pipeline([\n",
    "                ('clf', OneVsRestClassifier(LogisticRegression(solver='sag'),\n",
    "                    n_jobs=-1)),])\n",
    "LogReg_pipeline.fit(xtrain_ctv, y_train)\n",
    "\n",
    "Y_predicted_oneVsRest = LogReg_pipeline.predict(xtest_ctv)"
   ]
  },
  {
   "cell_type": "code",
   "execution_count": 44,
   "id": "fca84595",
   "metadata": {},
   "outputs": [],
   "source": [
    "# Model Evaluation\n",
    "\n",
    "from sklearn.metrics import accuracy_score\n",
    "from sklearn.metrics import f1_score\n",
    "from sklearn.metrics import average_precision_score\n",
    "from sklearn.metrics import recall_score"
   ]
  },
  {
   "cell_type": "code",
   "execution_count": 45,
   "id": "23fe2e02",
   "metadata": {},
   "outputs": [],
   "source": [
    "def display_metrics_micro(Ytest, Ypred):\n",
    "    print('Accuracy score: ', accuracy_score(Ytest, Ypred))\n",
    "    print('F1 score: Micro', f1_score(Ytest, Ypred, average='micro'))\n",
    "    print('Average precision score: Micro', average_precision_score(Ytest, Ypred, average='micro'))\n",
    "    print('Average recall score: Micro', recall_score(Ytest, Ypred, average='micro'))\n",
    "    \n",
    "    \n",
    "def display_metrics_macro(Ytest, Ypred):\n",
    "    print('Accuracy score: ', accuracy_score(Ytest, Ypred))\n",
    "    print('F1 score: Macro', f1_score(Ytest, Ypred, average='macro'))\n",
    "    print('Average recall score: MAcro', recall_score(Ytest, Ypred, average='macro'))\n",
    "    \n",
    "def display_metrics_weighted(Ytest, Ypred):\n",
    "    print('Accuracy score: ', accuracy_score(Ytest, Ypred))\n",
    "    print('F1 score: weighted', f1_score(Ytest, Ypred, average='weighted'))\n",
    "    print('Average precision score: weighted', average_precision_score(Ytest, Ypred, average='weighted'))\n",
    "    print('Average recall score: weighted', recall_score(Ytest, Ypred, average='weighted'))"
   ]
  },
  {
   "cell_type": "code",
   "execution_count": 46,
   "id": "c6357b6d",
   "metadata": {},
   "outputs": [
    {
     "name": "stdout",
     "output_type": "stream",
     "text": [
      "Accuracy score:  0.0019\n",
      "F1 score: Micro 0.24815420840483698\n",
      "Average precision score: Micro 0.13779681975479535\n",
      "Average recall score: Micro 0.15545\n"
     ]
    }
   ],
   "source": [
    "display_metrics_micro(y_test,Y_predicted_oneVsRest)"
   ]
  },
  {
   "cell_type": "code",
   "execution_count": 47,
   "id": "63535064",
   "metadata": {},
   "outputs": [
    {
     "name": "stdout",
     "output_type": "stream",
     "text": [
      "Accuracy score:  0.0019\n",
      "F1 score: Macro 0.01769345722752458\n",
      "Average recall score: MAcro 0.01669750348191694\n"
     ]
    }
   ],
   "source": [
    "display_metrics_macro(y_test,Y_predicted_oneVsRest)"
   ]
  },
  {
   "cell_type": "code",
   "execution_count": 48,
   "id": "749be552",
   "metadata": {},
   "outputs": [
    {
     "name": "stdout",
     "output_type": "stream",
     "text": [
      "Accuracy score:  0.0019\n",
      "F1 score: weighted 0.156096130291704\n",
      "Average precision score: weighted 0.23362265896744516\n",
      "Average recall score: weighted 0.15545\n"
     ]
    }
   ],
   "source": [
    "display_metrics_weighted(y_test,Y_predicted_oneVsRest)"
   ]
  },
  {
   "cell_type": "markdown",
   "id": "3f817fe9",
   "metadata": {},
   "source": [
    "Check for any 5 inputs and there predicted labels"
   ]
  },
  {
   "cell_type": "code",
   "execution_count": 49,
   "id": "9adb989a",
   "metadata": {},
   "outputs": [],
   "source": [
    "import random \n",
    "\n",
    "def print_predicted(y_predicted, y_test = y_test , n = 5):\n",
    "    j = []\n",
    "    for i in range(n):\n",
    "        j.append(random.randint(0, len(y_test)))\n",
    "    print(j)\n",
    "                 \n",
    "    for k in j:\n",
    "        print(binarizer.inverse_transform(y_predicted)[k])\n",
    "        print(binarizer.inverse_transform(y_test)[k])\n",
    "        print(\"_____________________________________\")"
   ]
  },
  {
   "cell_type": "code",
   "execution_count": 50,
   "id": "1830f432",
   "metadata": {},
   "outputs": [
    {
     "name": "stdout",
     "output_type": "stream",
     "text": [
      "[1349, 5664, 9313, 4217, 5525, 6048, 6001, 9542, 9759, 1463]\n",
      "('female',)\n",
      "('24', 'Engineering', 'Libra', 'male')\n",
      "_____________________________________\n",
      "('female',)\n",
      "('35', 'Virgo', 'female', 'indUnk')\n",
      "_____________________________________\n",
      "('male',)\n",
      "('35', 'Aries', 'Technology', 'male')\n",
      "_____________________________________\n",
      "('male',)\n",
      "('36', 'Aries', 'Fashion', 'male')\n",
      "_____________________________________\n",
      "('male',)\n",
      "('24', 'Chemicals', 'Libra', 'male')\n",
      "_____________________________________\n",
      "('female',)\n",
      "('26', 'Aquarius', 'indUnk', 'male')\n",
      "_____________________________________\n",
      "('male',)\n",
      "('26', 'Advertising', 'Cancer', 'male')\n",
      "_____________________________________\n",
      "('female',)\n",
      "('16', 'Student', 'Virgo', 'female')\n",
      "_____________________________________\n",
      "('female',)\n",
      "('15', 'Aries', 'Student', 'female')\n",
      "_____________________________________\n",
      "('male',)\n",
      "('23', 'Arts', 'Capricorn', 'female')\n",
      "_____________________________________\n"
     ]
    }
   ],
   "source": [
    "print_predicted(y_predicted=Y_predicted_oneVsRest,y_test=y_test, n= 10)"
   ]
  },
  {
   "cell_type": "markdown",
   "id": "55ab9411",
   "metadata": {},
   "source": [
    "Demonstration of input data preparation for neural network classifier"
   ]
  },
  {
   "cell_type": "code",
   "execution_count": 53,
   "id": "6a5c1ac6",
   "metadata": {
    "scrolled": true
   },
   "outputs": [
    {
     "name": "stdout",
     "output_type": "stream",
     "text": [
      "\u001b[33mWARNING: Ignoring invalid distribution -andas (/Users/bharat/opt/anaconda3/lib/python3.9/site-packages)\u001b[0m\n",
      "\u001b[33mWARNING: Ignoring invalid distribution -andas (/Users/bharat/opt/anaconda3/lib/python3.9/site-packages)\u001b[0m\n",
      "Requirement already satisfied: imbalanced-learn in ./opt/anaconda3/lib/python3.9/site-packages (0.10.1)\n",
      "Requirement already satisfied: scipy>=1.3.2 in ./opt/anaconda3/lib/python3.9/site-packages (from imbalanced-learn) (1.7.1)\n",
      "Requirement already satisfied: threadpoolctl>=2.0.0 in ./opt/anaconda3/lib/python3.9/site-packages (from imbalanced-learn) (2.2.0)\n",
      "Requirement already satisfied: joblib>=1.1.1 in ./opt/anaconda3/lib/python3.9/site-packages (from imbalanced-learn) (1.2.0)\n",
      "Requirement already satisfied: numpy>=1.17.3 in ./opt/anaconda3/lib/python3.9/site-packages (from imbalanced-learn) (1.20.3)\n",
      "Requirement already satisfied: scikit-learn>=1.0.2 in ./opt/anaconda3/lib/python3.9/site-packages (from imbalanced-learn) (1.1.3)\n",
      "\u001b[33mWARNING: Ignoring invalid distribution -andas (/Users/bharat/opt/anaconda3/lib/python3.9/site-packages)\u001b[0m\n",
      "\u001b[33mWARNING: Ignoring invalid distribution -andas (/Users/bharat/opt/anaconda3/lib/python3.9/site-packages)\u001b[0m\n",
      "\u001b[33mWARNING: Ignoring invalid distribution -andas (/Users/bharat/opt/anaconda3/lib/python3.9/site-packages)\u001b[0m\n",
      "\u001b[33mWARNING: Ignoring invalid distribution -andas (/Users/bharat/opt/anaconda3/lib/python3.9/site-packages)\u001b[0m\n",
      "Note: you may need to restart the kernel to use updated packages.\n"
     ]
    }
   ],
   "source": [
    "pip install -U imbalanced-learn"
   ]
  },
  {
   "cell_type": "code",
   "execution_count": 58,
   "id": "f90dffd8",
   "metadata": {},
   "outputs": [
    {
     "name": "stdout",
     "output_type": "stream",
     "text": [
      "\u001b[33mWARNING: Ignoring invalid distribution -andas (/Users/bharat/opt/anaconda3/lib/python3.9/site-packages)\u001b[0m\n",
      "\u001b[33mWARNING: Ignoring invalid distribution -andas (/Users/bharat/opt/anaconda3/lib/python3.9/site-packages)\u001b[0m\n",
      "Collecting textblob\n",
      "  Downloading textblob-0.17.1-py2.py3-none-any.whl (636 kB)\n",
      "\u001b[K     |████████████████████████████████| 636 kB 1.9 MB/s eta 0:00:01\n",
      "\u001b[?25hRequirement already satisfied: nltk>=3.1 in ./opt/anaconda3/lib/python3.9/site-packages (from textblob) (3.6.5)\n",
      "Requirement already satisfied: click in ./opt/anaconda3/lib/python3.9/site-packages (from nltk>=3.1->textblob) (8.0.3)\n",
      "Requirement already satisfied: joblib in ./opt/anaconda3/lib/python3.9/site-packages (from nltk>=3.1->textblob) (1.2.0)\n",
      "Requirement already satisfied: regex>=2021.8.3 in ./opt/anaconda3/lib/python3.9/site-packages (from nltk>=3.1->textblob) (2021.8.3)\n",
      "Requirement already satisfied: tqdm in ./opt/anaconda3/lib/python3.9/site-packages (from nltk>=3.1->textblob) (4.62.3)\n",
      "\u001b[33mWARNING: Ignoring invalid distribution -andas (/Users/bharat/opt/anaconda3/lib/python3.9/site-packages)\u001b[0m\n",
      "Installing collected packages: textblob\n",
      "\u001b[33mWARNING: Ignoring invalid distribution -andas (/Users/bharat/opt/anaconda3/lib/python3.9/site-packages)\u001b[0m\n",
      "Successfully installed textblob-0.17.1\n",
      "\u001b[33mWARNING: Ignoring invalid distribution -andas (/Users/bharat/opt/anaconda3/lib/python3.9/site-packages)\u001b[0m\n",
      "\u001b[33mWARNING: Ignoring invalid distribution -andas (/Users/bharat/opt/anaconda3/lib/python3.9/site-packages)\u001b[0m\n",
      "\u001b[33mWARNING: Ignoring invalid distribution -andas (/Users/bharat/opt/anaconda3/lib/python3.9/site-packages)\u001b[0m\n",
      "[nltk_data] Downloading package brown to /Users/bharat/nltk_data...\n",
      "[nltk_data]   Unzipping corpora/brown.zip.\n",
      "[nltk_data] Downloading package punkt to /Users/bharat/nltk_data...\n",
      "[nltk_data]   Package punkt is already up-to-date!\n",
      "[nltk_data] Downloading package wordnet to /Users/bharat/nltk_data...\n",
      "[nltk_data]   Package wordnet is already up-to-date!\n",
      "[nltk_data] Downloading package averaged_perceptron_tagger to\n",
      "[nltk_data]     /Users/bharat/nltk_data...\n",
      "[nltk_data]   Package averaged_perceptron_tagger is already up-to-\n",
      "[nltk_data]       date!\n",
      "[nltk_data] Downloading package conll2000 to\n",
      "[nltk_data]     /Users/bharat/nltk_data...\n",
      "[nltk_data]   Unzipping corpora/conll2000.zip.\n",
      "[nltk_data] Downloading package movie_reviews to\n",
      "[nltk_data]     /Users/bharat/nltk_data...\n",
      "[nltk_data]   Unzipping corpora/movie_reviews.zip.\n",
      "Finished.\n"
     ]
    }
   ],
   "source": [
    "!pip install -U textblob\n",
    "!python -m textblob.download_corpora"
   ]
  },
  {
   "cell_type": "code",
   "execution_count": 59,
   "id": "f610b31f",
   "metadata": {},
   "outputs": [
    {
     "name": "stderr",
     "output_type": "stream",
     "text": [
      "[nltk_data] Downloading package wordnet to /Users/bharat/nltk_data...\n",
      "[nltk_data]   Package wordnet is already up-to-date!\n"
     ]
    }
   ],
   "source": [
    "# data manipulation\n",
    "import pandas as pd\n",
    "\n",
    "# library for NLP tasks, \n",
    "from textblob import TextBlob\n",
    "import nltk\n",
    "nltk.download('wordnet')\n",
    "from textblob import Word \n",
    "# bag of words and tf-idf\n",
    "from sklearn.feature_extraction.text import CountVectorizer, TfidfVectorizer"
   ]
  },
  {
   "cell_type": "code",
   "execution_count": 61,
   "id": "87e26c51",
   "metadata": {},
   "outputs": [],
   "source": [
    "df = pd.read_csv(\"blogtext.csv\")"
   ]
  },
  {
   "cell_type": "code",
   "execution_count": 62,
   "id": "77de425d",
   "metadata": {},
   "outputs": [],
   "source": [
    "df.topic = df.topic.astype(str)"
   ]
  },
  {
   "cell_type": "code",
   "execution_count": 63,
   "id": "be6f882d",
   "metadata": {},
   "outputs": [],
   "source": [
    "# datasize is huge. Keeping only few topics which are our target classe \n",
    "# after that perform downsampling to balance the classes\n",
    "df_student = df[ (df.topic == 'Student') ] \n",
    "df_tech =   df[ (df.topic == 'Technology') ]\n",
    "df_arts     = df[(df.topic == 'Arts')]       \n",
    "df_non_profit = df[(df.topic == 'Non-Profit')]\n",
    "df_law = df[df.topic == 'Law']\n",
    "df_gov = df[(df.topic == 'Government')]\n",
    "df_rel = df[(df.topic == 'Religion')]\n",
    "df_fashion = df[(df.topic == 'Fashion')]"
   ]
  },
  {
   "cell_type": "code",
   "execution_count": 64,
   "id": "e126f4a0",
   "metadata": {},
   "outputs": [],
   "source": [
    "# use resample method from scikit-learn\n",
    "from sklearn.utils import resample\n",
    "\n",
    "df_student = resample(df_student, \n",
    "                      replace=True,    # sample with replacement\n",
    "                      n_samples=5000,     # to match number of values in each class\n",
    "                      random_state=123) # reproducible results\n",
    "\n",
    "df_tech = resample(df_tech, \n",
    "                      replace=True,    # sample with replacement\n",
    "                      n_samples=5000,     # to match number of values in each class\n",
    "                      random_state=123) # reproducible results\n",
    "\n",
    "df_arts = resample(df_arts, \n",
    "                      replace=True,    # sample with replacement\n",
    "                      n_samples=5000,     # to match number of values in each class\n",
    "                      random_state=123) # reproducible results\n",
    "\n",
    "df_non_profit = resample(df_non_profit, \n",
    "                      replace=True,    # sample with replacement\n",
    "                      n_samples=5000,     # to match number of values in each class\n",
    "                      random_state=123) # reproducible results\n",
    "\n",
    "df_law = resample(df_law, \n",
    "                      replace=True,    # sample with replacement\n",
    "                      n_samples=5000,     # to match number of values in each class\n",
    "                      random_state=123) # reproducible results\n",
    "\n",
    "df_gov = resample(df_gov, \n",
    "                      replace=True,    # sample with replacement\n",
    "                      n_samples=5000,     # to match number of values in each class\n",
    "                      random_state=123) # reproducible results\n",
    "\n",
    "df_rel = resample(df_rel, \n",
    "                      replace=True,    # sample with replacement\n",
    "                      n_samples=5000,     # to match number of values in each class\n",
    "                      random_state=123) # reproducible results"
   ]
  },
  {
   "cell_type": "code",
   "execution_count": 65,
   "id": "ba38f8c7",
   "metadata": {},
   "outputs": [
    {
     "data": {
      "text/plain": [
       "Student       5000\n",
       "Technology    5000\n",
       "Arts          5000\n",
       "Non-Profit    5000\n",
       "Law           5000\n",
       "Government    5000\n",
       "Religion      5000\n",
       "Fashion       4851\n",
       "Name: topic, dtype: int64"
      ]
     },
     "execution_count": 65,
     "metadata": {},
     "output_type": "execute_result"
    }
   ],
   "source": [
    "# Combine all the class with equal number of values\n",
    "df = pd.concat([df_student, df_tech, df_arts, df_non_profit, df_law, df_gov, df_rel, df_fashion ])\n",
    "\n",
    "# check for the class balance\n",
    "df['topic'].value_counts()"
   ]
  },
  {
   "cell_type": "code",
   "execution_count": 66,
   "id": "fb6ff314",
   "metadata": {},
   "outputs": [
    {
     "data": {
      "text/html": [
       "<div>\n",
       "<style scoped>\n",
       "    .dataframe tbody tr th:only-of-type {\n",
       "        vertical-align: middle;\n",
       "    }\n",
       "\n",
       "    .dataframe tbody tr th {\n",
       "        vertical-align: top;\n",
       "    }\n",
       "\n",
       "    .dataframe thead th {\n",
       "        text-align: right;\n",
       "    }\n",
       "</style>\n",
       "<table border=\"1\" class=\"dataframe\">\n",
       "  <thead>\n",
       "    <tr style=\"text-align: right;\">\n",
       "      <th></th>\n",
       "      <th>id</th>\n",
       "      <th>gender</th>\n",
       "      <th>age</th>\n",
       "      <th>topic</th>\n",
       "      <th>sign</th>\n",
       "      <th>date</th>\n",
       "      <th>text</th>\n",
       "    </tr>\n",
       "  </thead>\n",
       "  <tbody>\n",
       "    <tr>\n",
       "      <th>72398</th>\n",
       "      <td>479019</td>\n",
       "      <td>male</td>\n",
       "      <td>24</td>\n",
       "      <td>Student</td>\n",
       "      <td>Gemini</td>\n",
       "      <td>02,July,2004</td>\n",
       "      <td>Ive been watching a lot of movies...</td>\n",
       "    </tr>\n",
       "    <tr>\n",
       "      <th>132682</th>\n",
       "      <td>3622174</td>\n",
       "      <td>male</td>\n",
       "      <td>16</td>\n",
       "      <td>Student</td>\n",
       "      <td>Leo</td>\n",
       "      <td>25,June,2004</td>\n",
       "      <td>Zuma, by Pop Cap games, is one o...</td>\n",
       "    </tr>\n",
       "    <tr>\n",
       "      <th>82810</th>\n",
       "      <td>1478632</td>\n",
       "      <td>male</td>\n",
       "      <td>17</td>\n",
       "      <td>Student</td>\n",
       "      <td>Leo</td>\n",
       "      <td>30,May,2003</td>\n",
       "      <td>[Step Up Day? WTF?]  Yeah, the eighth ...</td>\n",
       "    </tr>\n",
       "    <tr>\n",
       "      <th>543401</th>\n",
       "      <td>2973911</td>\n",
       "      <td>male</td>\n",
       "      <td>17</td>\n",
       "      <td>Student</td>\n",
       "      <td>Sagittarius</td>\n",
       "      <td>01,September,2003</td>\n",
       "      <td>Ok, so i haven't posted for some ti...</td>\n",
       "    </tr>\n",
       "    <tr>\n",
       "      <th>650855</th>\n",
       "      <td>891544</td>\n",
       "      <td>male</td>\n",
       "      <td>27</td>\n",
       "      <td>Student</td>\n",
       "      <td>Libra</td>\n",
       "      <td>28,July,2004</td>\n",
       "      <td>hi gang...  the hunt may have to be pos...</td>\n",
       "    </tr>\n",
       "  </tbody>\n",
       "</table>\n",
       "</div>"
      ],
      "text/plain": [
       "             id gender  age    topic         sign               date  \\\n",
       "72398    479019   male   24  Student       Gemini       02,July,2004   \n",
       "132682  3622174   male   16  Student          Leo       25,June,2004   \n",
       "82810   1478632   male   17  Student          Leo        30,May,2003   \n",
       "543401  2973911   male   17  Student  Sagittarius  01,September,2003   \n",
       "650855   891544   male   27  Student        Libra       28,July,2004   \n",
       "\n",
       "                                                     text  \n",
       "72398                Ive been watching a lot of movies...  \n",
       "132682                Zuma, by Pop Cap games, is one o...  \n",
       "82810           [Step Up Day? WTF?]  Yeah, the eighth ...  \n",
       "543401             Ok, so i haven't posted for some ti...  \n",
       "650855         hi gang...  the hunt may have to be pos...  "
      ]
     },
     "execution_count": 66,
     "metadata": {},
     "output_type": "execute_result"
    }
   ],
   "source": [
    "df.head()"
   ]
  },
  {
   "cell_type": "code",
   "execution_count": 67,
   "id": "3e4f3ab9",
   "metadata": {},
   "outputs": [],
   "source": [
    "df['age'] = df['age'].astype(str)"
   ]
  },
  {
   "cell_type": "code",
   "execution_count": 68,
   "id": "816eeb21",
   "metadata": {},
   "outputs": [
    {
     "name": "stdout",
     "output_type": "stream",
     "text": [
      "             id  gender age    topic         sign               date  \\\n",
      "72398    479019    male  24  Student       Gemini       02,July,2004   \n",
      "132682  3622174    male  16  Student          Leo       25,June,2004   \n",
      "82810   1478632    male  17  Student          Leo        30,May,2003   \n",
      "543401  2973911    male  17  Student  Sagittarius  01,September,2003   \n",
      "650855   891544    male  27  Student        Libra       28,July,2004   \n",
      "...         ...     ...  ..      ...          ...                ...   \n",
      "680242  1722161  female  23  Fashion        Libra       15,July,2004   \n",
      "680243  1722161  female  23  Fashion        Libra       12,July,2004   \n",
      "680244  1722161  female  23  Fashion        Libra       11,July,2004   \n",
      "680245  1722161  female  23  Fashion        Libra       09,July,2004   \n",
      "680246  1722161  female  23  Fashion        Libra     07,August,2004   \n",
      "\n",
      "                                                     text  \\\n",
      "72398                Ive been watching a lot of movies...   \n",
      "132682                Zuma, by Pop Cap games, is one o...   \n",
      "82810           [Step Up Day? WTF?]  Yeah, the eighth ...   \n",
      "543401             Ok, so i haven't posted for some ti...   \n",
      "650855         hi gang...  the hunt may have to be pos...   \n",
      "...                                                   ...   \n",
      "680242                             i will be posting s...   \n",
      "680243                            and tonight i shall ...   \n",
      "680244              urlLink    latest suit! my first e...   \n",
      "680245             yes, that's how far the enthusiasm ...   \n",
      "680246                            my maternity leave (...   \n",
      "\n",
      "                              label  \n",
      "72398        male 24 Student Gemini  \n",
      "132682          male 16 Student Leo  \n",
      "82810           male 17 Student Leo  \n",
      "543401  male 17 Student Sagittarius  \n",
      "650855        male 27 Student Libra  \n",
      "...                             ...  \n",
      "680242      female 23 Fashion Libra  \n",
      "680243      female 23 Fashion Libra  \n",
      "680244      female 23 Fashion Libra  \n",
      "680245      female 23 Fashion Libra  \n",
      "680246      female 23 Fashion Libra  \n",
      "\n",
      "[39851 rows x 8 columns]\n"
     ]
    }
   ],
   "source": [
    "df['label'] = df[['gender', 'age', 'topic', 'sign']].apply(lambda x: ' '.join(x), axis = 1)\n",
    "\n",
    "print(df)"
   ]
  },
  {
   "cell_type": "code",
   "execution_count": 69,
   "id": "4325dc7d",
   "metadata": {},
   "outputs": [],
   "source": [
    "text = df[['text', 'label']]"
   ]
  },
  {
   "cell_type": "code",
   "execution_count": 70,
   "id": "b1c4b648",
   "metadata": {},
   "outputs": [
    {
     "name": "stdout",
     "output_type": "stream",
     "text": [
      "                                                     text  \\\n",
      "659799                     Cognize Maddie     Random F...   \n",
      "82664          todAy g0t nPcC ph0to-taking sessIon.. a...   \n",
      "597447                    Oh well as my earlier entry ...   \n",
      "312545             Laying in bed, trying to figure out...   \n",
      "490294          CURRENT ....     [ current clothes]  r...   \n",
      "...                                                   ...   \n",
      "563438     We didn't get a chance to get to Minneapoli...   \n",
      "563455     When I was at Michael's I decided to pick u...   \n",
      "563446     Ronald Reagan's funeral was today. Nearly e...   \n",
      "563471     Went to the Rice Street Festival yesterday....   \n",
      "563455     When I was at Michael's I decided to pick u...   \n",
      "\n",
      "                                 label  \n",
      "659799        female 16 Student Taurus  \n",
      "82664         female 16 Student Taurus  \n",
      "597447        female 16 Student Taurus  \n",
      "312545        female 16 Student Taurus  \n",
      "490294        female 16 Student Taurus  \n",
      "...                                ...  \n",
      "563438  female 38 Government Capricorn  \n",
      "563455  female 38 Government Capricorn  \n",
      "563446  female 38 Government Capricorn  \n",
      "563471  female 38 Government Capricorn  \n",
      "563455  female 38 Government Capricorn  \n",
      "\n",
      "[200 rows x 2 columns]\n"
     ]
    }
   ],
   "source": [
    "print(text[text.groupby(\"label\")[\"label\"].transform('size') == 50])"
   ]
  },
  {
   "cell_type": "code",
   "execution_count": 71,
   "id": "14af207f",
   "metadata": {},
   "outputs": [],
   "source": [
    "data = text[text.groupby(\"label\")[\"label\"].transform('size') == 20]"
   ]
  },
  {
   "cell_type": "code",
   "execution_count": 72,
   "id": "caecaa92",
   "metadata": {},
   "outputs": [
    {
     "data": {
      "text/plain": [
       "422637    urllink god can turn high money-spinning fashi...\n",
       "232041    bludgy days ...this week. today we only had on...\n",
       "91583     lovin' the picture chichi and you should've sl...\n",
       "91544     hey everybody i went to the concert and it was...\n",
       "292924    msh vs gms full time report-- padang field a.....\n",
       "Name: text, dtype: object"
      ]
     },
     "execution_count": 72,
     "metadata": {},
     "output_type": "execute_result"
    }
   ],
   "source": [
    "data['text'] = data['text'].apply( lambda t : ' '.join( word.lower() for word in t.split()  ) )\n",
    "data['text'].head(5)"
   ]
  },
  {
   "cell_type": "code",
   "execution_count": 73,
   "id": "e3990675",
   "metadata": {},
   "outputs": [
    {
     "data": {
      "text/plain": [
       "422637    urllink god can turn high moneyspinning fashio...\n",
       "232041    bludgy days this week today we only had one pr...\n",
       "91583     lovin the picture chichi and you shouldve slap...\n",
       "91544     hey everybody i went to the concert and it was...\n",
       "292924    msh vs gms full time report padang field athe ...\n",
       "539776    hmm well whats been happing with me lately las...\n",
       "539773    so i saw urllink the bourne supremacy a few we...\n",
       "660101    well he worked and got drunk what a way to spe...\n",
       "421381    ive always wondered why people take part in th...\n",
       "577844    what do that both person mean to you mr sandma...\n",
       "Name: text, dtype: object"
      ]
     },
     "execution_count": 73,
     "metadata": {},
     "output_type": "execute_result"
    }
   ],
   "source": [
    "# 2. Remove punctuations\n",
    "# the [^\\w\\s] means remove everything, keep only words(w) and spaces(s)\n",
    "# this step should be done after feature extraction like hashtags, user tagged\n",
    "data['text'] = data['text'].str.replace( '[^\\w\\s]' , '' )\n",
    "data['text'].head(10)"
   ]
  },
  {
   "cell_type": "code",
   "execution_count": 74,
   "id": "f8ece476",
   "metadata": {},
   "outputs": [],
   "source": [
    "# 3 . Remove stop words - the, a , and etc. These are most commonly occuring words, and may created irrevelent \n",
    "# baises to our model\n",
    "from nltk.corpus import stopwords\n",
    "stop = stopwords.words('english')\n",
    "\n",
    "data['text'] = data['text'].apply( lambda t : \" \".join( word for word in t.split() \n",
    "                                                       if word not in stop ) )"
   ]
  },
  {
   "cell_type": "code",
   "execution_count": 75,
   "id": "4a3e7da4",
   "metadata": {},
   "outputs": [],
   "source": [
    "# 4. Frequent word removal from the text; text which are not stopwords\n",
    "# first we will take whole tweets data and split into words and then calculate their frequency\n",
    "#  join words only with strings so, there needs to be some string to join other string\n",
    "all_words = ' '.join( data['text'] ).split()\n",
    "freqeuncy = pd.Series(all_words).value_counts()[:20]"
   ]
  },
  {
   "cell_type": "code",
   "execution_count": 76,
   "id": "4f67ec36",
   "metadata": {},
   "outputs": [
    {
     "data": {
      "text/plain": [
       "urllink    328\n",
       "like       315\n",
       "im         290\n",
       "n          233\n",
       "get        207\n",
       "really     203\n",
       "one        202\n",
       "dont       194\n",
       "know       180\n",
       "think      164\n",
       "see        157\n",
       "time       156\n",
       "well       154\n",
       "would      153\n",
       "good       151\n",
       "much       140\n",
       "people     137\n",
       "go         135\n",
       "movie      133\n",
       "got        125\n",
       "dtype: int64"
      ]
     },
     "execution_count": 76,
     "metadata": {},
     "output_type": "execute_result"
    }
   ],
   "source": [
    "freqeuncy"
   ]
  },
  {
   "cell_type": "code",
   "execution_count": 77,
   "id": "56306bdd",
   "metadata": {},
   "outputs": [
    {
     "data": {
      "text/plain": [
       "422637    god turn high moneyspinning fashion advantage ...\n",
       "232041    bludgy days week today proper period work math...\n",
       "91583     lovin picture chichi shouldve slapped dude kep...\n",
       "91544     hey everybody went concert kinda fun guess lik...\n",
       "292924    msh vs gms full report padang field athe game ...\n",
       "539776    hmm whats happing lately last weekend went cam...\n",
       "539773    saw bourne supremacy weeks ago must admit grea...\n",
       "660101    worked drunk way spend bday cused charge phone...\n",
       "421381    ive always wondered take part lotteryits obvio...\n",
       "577844    person mean mr sandman mr dreammaker sometimes...\n",
       "Name: text, dtype: object"
      ]
     },
     "execution_count": 77,
     "metadata": {},
     "output_type": "execute_result"
    }
   ],
   "source": [
    "# remove frequenct words\n",
    "data['text'] = data['text'].apply( lambda t : ' '.join( word for word in t.split() \n",
    "                                                      if word not in freqeuncy) )\n",
    "data['text'].head(10)"
   ]
  },
  {
   "cell_type": "code",
   "execution_count": 78,
   "id": "574916e8",
   "metadata": {},
   "outputs": [
    {
     "data": {
      "text/plain": [
       "422637    god turn high moneyspinning fashion advantage ...\n",
       "232041    bludgy days week today proper period work math...\n",
       "91583     lovin picture chichi shouldve slapped dude kep...\n",
       "91544     hey everybody went concert kinda fun guess lik...\n",
       "292924    msh vs gms full report padang field athe game ...\n",
       "539776    hmm whats happing lately last weekend went cam...\n",
       "539773    saw bourne supremacy weeks ago must admit grea...\n",
       "660101    worked drunk way spend bday cused charge phone...\n",
       "421381    ive always wondered take part lotteryits obvio...\n",
       "577844    person mean mr sandman mr dreammaker sometimes...\n",
       "Name: text, dtype: object"
      ]
     },
     "execution_count": 78,
     "metadata": {},
     "output_type": "execute_result"
    }
   ],
   "source": [
    "# 6. Remove whitespaces\n",
    "data['text'] = data['text'].str.strip()\n",
    "data['text'].head(10)"
   ]
  },
  {
   "cell_type": "code",
   "execution_count": 79,
   "id": "da2601c6",
   "metadata": {},
   "outputs": [
    {
     "data": {
      "text/plain": [
       "422637    god turn high moneyspinning fashion advantage ...\n",
       "232041    bludgy days week today proper period work math...\n",
       "91583     lovin picture chichi shouldve slapped dude kep...\n",
       "91544     hey everybody went concert kinda fun guess lik...\n",
       "292924    msh vs gms full report padang field athe game ...\n",
       "539776    hmm whats happing lately last weekend went cam...\n",
       "539773    saw bourne supremacy weeks ago must admit grea...\n",
       "660101    worked drunk way spend bday cused charge phone...\n",
       "421381    ive always wondered take part lotteryits obvio...\n",
       "577844    person mean mr sandman mr dreammaker sometimes...\n",
       "Name: text, dtype: object"
      ]
     },
     "execution_count": 79,
     "metadata": {},
     "output_type": "execute_result"
    }
   ],
   "source": [
    "# Remove Numberic\n",
    "import re\n",
    "\n",
    "def remove_num(t):\n",
    "    removed_num_text = re.sub(r'\\d+', '', t)\n",
    "    return removed_num_text\n",
    "\n",
    "data['text'] = data['text'].apply( lambda t : remove_num(t) )\n",
    "data['text'].head(10)"
   ]
  },
  {
   "cell_type": "code",
   "execution_count": 80,
   "id": "f44e7be9",
   "metadata": {},
   "outputs": [
    {
     "data": {
      "text/plain": [
       "422637    god turn high moneyspinning fashion advantage ...\n",
       "232041    bludgy day week today proper period work math ...\n",
       "91583     lovin picture chichi shouldve slapped dude kep...\n",
       "91544     hey everybody went concert kinda fun guess lik...\n",
       "292924    msh v gm full report padang field athe game st...\n",
       "Name: text, dtype: object"
      ]
     },
     "execution_count": 80,
     "metadata": {},
     "output_type": "execute_result"
    }
   ],
   "source": [
    "# 8 . Lemmatization ; its preferred over stemming because if finds the root word\n",
    "# perform lemmatization on the title\n",
    "data['text'] = data['text'].apply( lambda t : \" \".join( [Word(word).lemmatize() for word in t.split()  ]) )\n",
    "data['text'].head(5)"
   ]
  },
  {
   "cell_type": "code",
   "execution_count": 81,
   "id": "545db0d9",
   "metadata": {},
   "outputs": [],
   "source": [
    "# 9. Bag of words\n",
    "cv = CountVectorizer(stop_words='english')\n",
    "data_cv = cv.fit_transform(data.text.values.astype('str'))\n",
    "\n",
    "data_dtm = pd.DataFrame(data_cv.toarray(), columns=cv.get_feature_names())\n",
    "data_dtm.index = data.index"
   ]
  },
  {
   "cell_type": "code",
   "execution_count": 82,
   "id": "fb94d12a",
   "metadata": {},
   "outputs": [
    {
     "data": {
      "text/html": [
       "<div>\n",
       "<style scoped>\n",
       "    .dataframe tbody tr th:only-of-type {\n",
       "        vertical-align: middle;\n",
       "    }\n",
       "\n",
       "    .dataframe tbody tr th {\n",
       "        vertical-align: top;\n",
       "    }\n",
       "\n",
       "    .dataframe thead th {\n",
       "        text-align: right;\n",
       "    }\n",
       "</style>\n",
       "<table border=\"1\" class=\"dataframe\">\n",
       "  <thead>\n",
       "    <tr style=\"text-align: right;\">\n",
       "      <th></th>\n",
       "      <th>__</th>\n",
       "      <th>___</th>\n",
       "      <th>____</th>\n",
       "      <th>_________</th>\n",
       "      <th>aa</th>\n",
       "      <th>aaaaaaaaaaaahhhhhhhhhhhhhhhhhhhhhhhhhh</th>\n",
       "      <th>aaaahhhhh</th>\n",
       "      <th>aaah</th>\n",
       "      <th>aaarrggghhh</th>\n",
       "      <th>aag</th>\n",
       "      <th>...</th>\n",
       "      <th>zombie</th>\n",
       "      <th>zombrano</th>\n",
       "      <th>zooming</th>\n",
       "      <th>zrk</th>\n",
       "      <th>zulund</th>\n",
       "      <th>último</th>\n",
       "      <th>útil</th>\n",
       "      <th>мои</th>\n",
       "      <th>носки</th>\n",
       "      <th>трясет</th>\n",
       "    </tr>\n",
       "  </thead>\n",
       "  <tbody>\n",
       "    <tr>\n",
       "      <th>422637</th>\n",
       "      <td>0</td>\n",
       "      <td>0</td>\n",
       "      <td>0</td>\n",
       "      <td>0</td>\n",
       "      <td>0</td>\n",
       "      <td>0</td>\n",
       "      <td>0</td>\n",
       "      <td>0</td>\n",
       "      <td>0</td>\n",
       "      <td>0</td>\n",
       "      <td>...</td>\n",
       "      <td>0</td>\n",
       "      <td>0</td>\n",
       "      <td>0</td>\n",
       "      <td>0</td>\n",
       "      <td>0</td>\n",
       "      <td>0</td>\n",
       "      <td>0</td>\n",
       "      <td>0</td>\n",
       "      <td>0</td>\n",
       "      <td>0</td>\n",
       "    </tr>\n",
       "    <tr>\n",
       "      <th>232041</th>\n",
       "      <td>1</td>\n",
       "      <td>0</td>\n",
       "      <td>1</td>\n",
       "      <td>0</td>\n",
       "      <td>0</td>\n",
       "      <td>0</td>\n",
       "      <td>0</td>\n",
       "      <td>0</td>\n",
       "      <td>0</td>\n",
       "      <td>0</td>\n",
       "      <td>...</td>\n",
       "      <td>0</td>\n",
       "      <td>0</td>\n",
       "      <td>0</td>\n",
       "      <td>0</td>\n",
       "      <td>0</td>\n",
       "      <td>0</td>\n",
       "      <td>0</td>\n",
       "      <td>0</td>\n",
       "      <td>0</td>\n",
       "      <td>0</td>\n",
       "    </tr>\n",
       "    <tr>\n",
       "      <th>91583</th>\n",
       "      <td>0</td>\n",
       "      <td>0</td>\n",
       "      <td>0</td>\n",
       "      <td>0</td>\n",
       "      <td>0</td>\n",
       "      <td>0</td>\n",
       "      <td>0</td>\n",
       "      <td>0</td>\n",
       "      <td>0</td>\n",
       "      <td>0</td>\n",
       "      <td>...</td>\n",
       "      <td>0</td>\n",
       "      <td>0</td>\n",
       "      <td>0</td>\n",
       "      <td>0</td>\n",
       "      <td>0</td>\n",
       "      <td>0</td>\n",
       "      <td>0</td>\n",
       "      <td>0</td>\n",
       "      <td>0</td>\n",
       "      <td>0</td>\n",
       "    </tr>\n",
       "    <tr>\n",
       "      <th>91544</th>\n",
       "      <td>0</td>\n",
       "      <td>0</td>\n",
       "      <td>0</td>\n",
       "      <td>0</td>\n",
       "      <td>0</td>\n",
       "      <td>0</td>\n",
       "      <td>0</td>\n",
       "      <td>0</td>\n",
       "      <td>0</td>\n",
       "      <td>0</td>\n",
       "      <td>...</td>\n",
       "      <td>0</td>\n",
       "      <td>0</td>\n",
       "      <td>0</td>\n",
       "      <td>0</td>\n",
       "      <td>0</td>\n",
       "      <td>0</td>\n",
       "      <td>0</td>\n",
       "      <td>0</td>\n",
       "      <td>0</td>\n",
       "      <td>0</td>\n",
       "    </tr>\n",
       "    <tr>\n",
       "      <th>292924</th>\n",
       "      <td>0</td>\n",
       "      <td>0</td>\n",
       "      <td>0</td>\n",
       "      <td>0</td>\n",
       "      <td>0</td>\n",
       "      <td>0</td>\n",
       "      <td>0</td>\n",
       "      <td>0</td>\n",
       "      <td>0</td>\n",
       "      <td>0</td>\n",
       "      <td>...</td>\n",
       "      <td>0</td>\n",
       "      <td>0</td>\n",
       "      <td>0</td>\n",
       "      <td>0</td>\n",
       "      <td>0</td>\n",
       "      <td>0</td>\n",
       "      <td>0</td>\n",
       "      <td>0</td>\n",
       "      <td>0</td>\n",
       "      <td>0</td>\n",
       "    </tr>\n",
       "  </tbody>\n",
       "</table>\n",
       "<p>5 rows × 8231 columns</p>\n",
       "</div>"
      ],
      "text/plain": [
       "        __  ___  ____  _________  aa  aaaaaaaaaaaahhhhhhhhhhhhhhhhhhhhhhhhhh  \\\n",
       "422637   0    0     0          0   0                                       0   \n",
       "232041   1    0     1          0   0                                       0   \n",
       "91583    0    0     0          0   0                                       0   \n",
       "91544    0    0     0          0   0                                       0   \n",
       "292924   0    0     0          0   0                                       0   \n",
       "\n",
       "        aaaahhhhh  aaah  aaarrggghhh  aag  ...  zombie  zombrano  zooming  \\\n",
       "422637          0     0            0    0  ...       0         0        0   \n",
       "232041          0     0            0    0  ...       0         0        0   \n",
       "91583           0     0            0    0  ...       0         0        0   \n",
       "91544           0     0            0    0  ...       0         0        0   \n",
       "292924          0     0            0    0  ...       0         0        0   \n",
       "\n",
       "        zrk  zulund  último  útil  мои  носки  трясет  \n",
       "422637    0       0       0     0    0      0       0  \n",
       "232041    0       0       0     0    0      0       0  \n",
       "91583     0       0       0     0    0      0       0  \n",
       "91544     0       0       0     0    0      0       0  \n",
       "292924    0       0       0     0    0      0       0  \n",
       "\n",
       "[5 rows x 8231 columns]"
      ]
     },
     "execution_count": 82,
     "metadata": {},
     "output_type": "execute_result"
    }
   ],
   "source": [
    "data_dtm.head()"
   ]
  },
  {
   "cell_type": "code",
   "execution_count": 83,
   "id": "8b20ef86",
   "metadata": {},
   "outputs": [
    {
     "data": {
      "text/plain": [
       "422637        male 23 Student Aries\n",
       "232041    male 14 Student Capricorn\n",
       "91583     male 14 Student Capricorn\n",
       "91544     male 14 Student Capricorn\n",
       "292924    male 14 Student Capricorn\n",
       "                    ...            \n",
       "318062      female 15 Fashion Aries\n",
       "318063      female 15 Fashion Aries\n",
       "318064      female 15 Fashion Aries\n",
       "318065      female 15 Fashion Aries\n",
       "318066      female 15 Fashion Aries\n",
       "Name: label, Length: 340, dtype: object"
      ]
     },
     "execution_count": 83,
     "metadata": {},
     "output_type": "execute_result"
    }
   ],
   "source": [
    "data.label"
   ]
  },
  {
   "cell_type": "code",
   "execution_count": 84,
   "id": "6bd0ae09",
   "metadata": {},
   "outputs": [],
   "source": [
    "data[['gender','age', 'topic', 'sign']] = data.label.str.split(expand=True)"
   ]
  },
  {
   "cell_type": "code",
   "execution_count": 85,
   "id": "e65720b8",
   "metadata": {},
   "outputs": [
    {
     "data": {
      "text/html": [
       "<div>\n",
       "<style scoped>\n",
       "    .dataframe tbody tr th:only-of-type {\n",
       "        vertical-align: middle;\n",
       "    }\n",
       "\n",
       "    .dataframe tbody tr th {\n",
       "        vertical-align: top;\n",
       "    }\n",
       "\n",
       "    .dataframe thead th {\n",
       "        text-align: right;\n",
       "    }\n",
       "</style>\n",
       "<table border=\"1\" class=\"dataframe\">\n",
       "  <thead>\n",
       "    <tr style=\"text-align: right;\">\n",
       "      <th></th>\n",
       "      <th>text</th>\n",
       "      <th>label</th>\n",
       "      <th>gender</th>\n",
       "      <th>age</th>\n",
       "      <th>topic</th>\n",
       "      <th>sign</th>\n",
       "    </tr>\n",
       "  </thead>\n",
       "  <tbody>\n",
       "    <tr>\n",
       "      <th>422637</th>\n",
       "      <td>god turn high moneyspinning fashion advantage ...</td>\n",
       "      <td>male 23 Student Aries</td>\n",
       "      <td>male</td>\n",
       "      <td>23</td>\n",
       "      <td>Student</td>\n",
       "      <td>Aries</td>\n",
       "    </tr>\n",
       "    <tr>\n",
       "      <th>232041</th>\n",
       "      <td>bludgy day week today proper period work math ...</td>\n",
       "      <td>male 14 Student Capricorn</td>\n",
       "      <td>male</td>\n",
       "      <td>14</td>\n",
       "      <td>Student</td>\n",
       "      <td>Capricorn</td>\n",
       "    </tr>\n",
       "    <tr>\n",
       "      <th>91583</th>\n",
       "      <td>lovin picture chichi shouldve slapped dude kep...</td>\n",
       "      <td>male 14 Student Capricorn</td>\n",
       "      <td>male</td>\n",
       "      <td>14</td>\n",
       "      <td>Student</td>\n",
       "      <td>Capricorn</td>\n",
       "    </tr>\n",
       "    <tr>\n",
       "      <th>91544</th>\n",
       "      <td>hey everybody went concert kinda fun guess lik...</td>\n",
       "      <td>male 14 Student Capricorn</td>\n",
       "      <td>male</td>\n",
       "      <td>14</td>\n",
       "      <td>Student</td>\n",
       "      <td>Capricorn</td>\n",
       "    </tr>\n",
       "    <tr>\n",
       "      <th>292924</th>\n",
       "      <td>msh v gm full report padang field athe game st...</td>\n",
       "      <td>male 14 Student Capricorn</td>\n",
       "      <td>male</td>\n",
       "      <td>14</td>\n",
       "      <td>Student</td>\n",
       "      <td>Capricorn</td>\n",
       "    </tr>\n",
       "  </tbody>\n",
       "</table>\n",
       "</div>"
      ],
      "text/plain": [
       "                                                     text  \\\n",
       "422637  god turn high moneyspinning fashion advantage ...   \n",
       "232041  bludgy day week today proper period work math ...   \n",
       "91583   lovin picture chichi shouldve slapped dude kep...   \n",
       "91544   hey everybody went concert kinda fun guess lik...   \n",
       "292924  msh v gm full report padang field athe game st...   \n",
       "\n",
       "                            label gender age    topic       sign  \n",
       "422637      male 23 Student Aries   male  23  Student      Aries  \n",
       "232041  male 14 Student Capricorn   male  14  Student  Capricorn  \n",
       "91583   male 14 Student Capricorn   male  14  Student  Capricorn  \n",
       "91544   male 14 Student Capricorn   male  14  Student  Capricorn  \n",
       "292924  male 14 Student Capricorn   male  14  Student  Capricorn  "
      ]
     },
     "execution_count": 85,
     "metadata": {},
     "output_type": "execute_result"
    }
   ],
   "source": [
    "data.head()"
   ]
  },
  {
   "cell_type": "code",
   "execution_count": 86,
   "id": "72d2b282",
   "metadata": {},
   "outputs": [],
   "source": [
    "data = data.drop('label', axis = 1)"
   ]
  },
  {
   "cell_type": "code",
   "execution_count": 87,
   "id": "0844d258",
   "metadata": {},
   "outputs": [],
   "source": [
    "data['age'] = data['age'].astype(str)\n",
    "data['labels'] = data.apply(lambda col : [col['gender'],col['age'],col['topic'],col['sign']], axis=1)"
   ]
  },
  {
   "cell_type": "code",
   "execution_count": 88,
   "id": "f5d9b337",
   "metadata": {},
   "outputs": [
    {
     "data": {
      "text/html": [
       "<div>\n",
       "<style scoped>\n",
       "    .dataframe tbody tr th:only-of-type {\n",
       "        vertical-align: middle;\n",
       "    }\n",
       "\n",
       "    .dataframe tbody tr th {\n",
       "        vertical-align: top;\n",
       "    }\n",
       "\n",
       "    .dataframe thead th {\n",
       "        text-align: right;\n",
       "    }\n",
       "</style>\n",
       "<table border=\"1\" class=\"dataframe\">\n",
       "  <thead>\n",
       "    <tr style=\"text-align: right;\">\n",
       "      <th></th>\n",
       "      <th>text</th>\n",
       "      <th>gender</th>\n",
       "      <th>age</th>\n",
       "      <th>topic</th>\n",
       "      <th>sign</th>\n",
       "      <th>labels</th>\n",
       "    </tr>\n",
       "  </thead>\n",
       "  <tbody>\n",
       "    <tr>\n",
       "      <th>422637</th>\n",
       "      <td>god turn high moneyspinning fashion advantage ...</td>\n",
       "      <td>male</td>\n",
       "      <td>23</td>\n",
       "      <td>Student</td>\n",
       "      <td>Aries</td>\n",
       "      <td>[male, 23, Student, Aries]</td>\n",
       "    </tr>\n",
       "    <tr>\n",
       "      <th>232041</th>\n",
       "      <td>bludgy day week today proper period work math ...</td>\n",
       "      <td>male</td>\n",
       "      <td>14</td>\n",
       "      <td>Student</td>\n",
       "      <td>Capricorn</td>\n",
       "      <td>[male, 14, Student, Capricorn]</td>\n",
       "    </tr>\n",
       "    <tr>\n",
       "      <th>91583</th>\n",
       "      <td>lovin picture chichi shouldve slapped dude kep...</td>\n",
       "      <td>male</td>\n",
       "      <td>14</td>\n",
       "      <td>Student</td>\n",
       "      <td>Capricorn</td>\n",
       "      <td>[male, 14, Student, Capricorn]</td>\n",
       "    </tr>\n",
       "    <tr>\n",
       "      <th>91544</th>\n",
       "      <td>hey everybody went concert kinda fun guess lik...</td>\n",
       "      <td>male</td>\n",
       "      <td>14</td>\n",
       "      <td>Student</td>\n",
       "      <td>Capricorn</td>\n",
       "      <td>[male, 14, Student, Capricorn]</td>\n",
       "    </tr>\n",
       "    <tr>\n",
       "      <th>292924</th>\n",
       "      <td>msh v gm full report padang field athe game st...</td>\n",
       "      <td>male</td>\n",
       "      <td>14</td>\n",
       "      <td>Student</td>\n",
       "      <td>Capricorn</td>\n",
       "      <td>[male, 14, Student, Capricorn]</td>\n",
       "    </tr>\n",
       "  </tbody>\n",
       "</table>\n",
       "</div>"
      ],
      "text/plain": [
       "                                                     text gender age    topic  \\\n",
       "422637  god turn high moneyspinning fashion advantage ...   male  23  Student   \n",
       "232041  bludgy day week today proper period work math ...   male  14  Student   \n",
       "91583   lovin picture chichi shouldve slapped dude kep...   male  14  Student   \n",
       "91544   hey everybody went concert kinda fun guess lik...   male  14  Student   \n",
       "292924  msh v gm full report padang field athe game st...   male  14  Student   \n",
       "\n",
       "             sign                          labels  \n",
       "422637      Aries      [male, 23, Student, Aries]  \n",
       "232041  Capricorn  [male, 14, Student, Capricorn]  \n",
       "91583   Capricorn  [male, 14, Student, Capricorn]  \n",
       "91544   Capricorn  [male, 14, Student, Capricorn]  \n",
       "292924  Capricorn  [male, 14, Student, Capricorn]  "
      ]
     },
     "execution_count": 88,
     "metadata": {},
     "output_type": "execute_result"
    }
   ],
   "source": [
    "data.head()"
   ]
  },
  {
   "cell_type": "code",
   "execution_count": 89,
   "id": "51fd24b2",
   "metadata": {},
   "outputs": [],
   "source": [
    "X= data_dtm.values\n",
    "y = data.labels.values\n",
    "X_train, X_test, y_train, y_test = train_test_split(X, y, random_state=42, test_size = 0.2)"
   ]
  },
  {
   "cell_type": "code",
   "execution_count": 90,
   "id": "c936a613",
   "metadata": {},
   "outputs": [
    {
     "data": {
      "text/plain": [
       "{'male': 200,\n",
       " '23': 40,\n",
       " 'Student': 80,\n",
       " 'Aries': 60,\n",
       " '14': 40,\n",
       " 'Capricorn': 40,\n",
       " 'Sagittarius': 60,\n",
       " 'female': 140,\n",
       " 'Scorpio': 20,\n",
       " '26': 40,\n",
       " 'Technology': 40,\n",
       " '27': 40,\n",
       " 'Aquarius': 20,\n",
       " '16': 20,\n",
       " 'Arts': 120,\n",
       " 'Libra': 20,\n",
       " 'Gemini': 40,\n",
       " '34': 20,\n",
       " 'Leo': 20,\n",
       " '33': 20,\n",
       " 'Pisces': 60,\n",
       " '17': 20,\n",
       " '37': 20,\n",
       " '36': 20,\n",
       " 'Non-Profit': 20,\n",
       " 'Law': 20,\n",
       " '45': 20,\n",
       " 'Religion': 40,\n",
       " '15': 40,\n",
       " 'Fashion': 20}"
      ]
     },
     "execution_count": 90,
     "metadata": {},
     "output_type": "execute_result"
    }
   ],
   "source": [
    "label_counts=dict()\n",
    "\n",
    "for labels in data.labels.values:\n",
    "    for label in labels:\n",
    "        if label in label_counts:\n",
    "            label_counts[str(label)]+=1\n",
    "        else:\n",
    "            label_counts[str(label)]=1\n",
    "        \n",
    "label_counts"
   ]
  },
  {
   "cell_type": "code",
   "execution_count": 91,
   "id": "386014d0",
   "metadata": {},
   "outputs": [],
   "source": [
    "binarizer=MultiLabelBinarizer(classes=sorted(label_counts.keys()))\n",
    "\n",
    "\n",
    "y_train = binarizer.fit_transform(y_train)\n",
    "y_test = binarizer.transform(y_test)"
   ]
  },
  {
   "cell_type": "code",
   "execution_count": 92,
   "id": "8527739c",
   "metadata": {},
   "outputs": [
    {
     "name": "stderr",
     "output_type": "stream",
     "text": [
      "2023-01-13 18:38:19.951797: I tensorflow/core/platform/cpu_feature_guard.cc:193] This TensorFlow binary is optimized with oneAPI Deep Neural Network Library (oneDNN) to use the following CPU instructions in performance-critical operations:  AVX2 FMA\n",
      "To enable them in other operations, rebuild TensorFlow with the appropriate compiler flags.\n"
     ]
    },
    {
     "name": "stdout",
     "output_type": "stream",
     "text": [
      "Epoch 1/10\n",
      "55/55 [==============================] - 1s 7ms/step - loss: nan - accuracy: 0.0368                            \n",
      "Epoch 2/10\n",
      "55/55 [==============================] - 0s 7ms/step - loss: nan - accuracy: 0.1140\n",
      "Epoch 3/10\n",
      "55/55 [==============================] - 0s 6ms/step - loss: nan - accuracy: 0.1140\n",
      "Epoch 4/10\n",
      "55/55 [==============================] - 0s 7ms/step - loss: nan - accuracy: 0.1140\n",
      "Epoch 5/10\n",
      "55/55 [==============================] - 0s 6ms/step - loss: nan - accuracy: 0.1140\n",
      "Epoch 6/10\n",
      "55/55 [==============================] - 0s 8ms/step - loss: nan - accuracy: 0.1140\n",
      "Epoch 7/10\n",
      "55/55 [==============================] - 0s 8ms/step - loss: nan - accuracy: 0.1140\n",
      "Epoch 8/10\n",
      "55/55 [==============================] - 0s 7ms/step - loss: nan - accuracy: 0.1140\n",
      "Epoch 9/10\n",
      "55/55 [==============================] - 0s 8ms/step - loss: nan - accuracy: 0.1140\n",
      "Epoch 10/10\n",
      "55/55 [==============================] - 0s 8ms/step - loss: nan - accuracy: 0.1140\n"
     ]
    }
   ],
   "source": [
    "# Create model - 3 layers. First layer 128 neurons, second layer 64 neurons and 3rd output layer contains number of neurons\n",
    "# equal to number of intents to predict output intent with softmax\n",
    "from keras.models import Sequential\n",
    "from keras.layers import Dense, Activation, Dropout\n",
    "from keras.optimizers import SGD\n",
    "\n",
    "clf_model = Sequential()\n",
    "clf_model.add(Dense(128, input_shape=(len(X_train[0]),), activation='relu'))\n",
    "clf_model.add(Dropout(0.5))\n",
    "clf_model.add(Dense(64, activation='relu'))\n",
    "clf_model.add(Dropout(0.5))\n",
    "clf_model.add(Dense(len(y_train[0]), activation='softmax'))\n",
    "# Compile model. Stochastic gradient descent with Nesterov accelerated gradient gives good results for this model\n",
    "sgd = SGD(lr=0.01, decay=1e-6, momentum=0.9, nesterov=True)\n",
    "clf_model.compile(loss='categorical_crossentropy', optimizer=sgd, metrics=['accuracy'])\n",
    "#fitting and saving the model \n",
    "clf_hist = clf_model.fit(np.array(X_train), np.array(y_train), epochs=10, batch_size=5, verbose=1)"
   ]
  },
  {
   "cell_type": "markdown",
   "id": "6e8b23b4",
   "metadata": {},
   "source": [
    "The logistic regression model on top has a poor predictive accuracy. We can also check with svm and nbayes the accuracy. There is a tradeoff between time to train model and model accuracy. I have not tuned the neural net for the paucity of time. However, it would be much faster. This could be due to exploding gradient problem, which can be solved with tuning the activation function, lr. I have not tried that here since the aim of the project was to demonstrate converting blogtext data in a usable form for both ml and nn models. The same has been successfully achieved in the above sections."
   ]
  },
  {
   "cell_type": "markdown",
   "id": "2359148b",
   "metadata": {},
   "source": [
    "Chat Bot Developemt "
   ]
  },
  {
   "cell_type": "code",
   "execution_count": 93,
   "id": "2f4acb00",
   "metadata": {},
   "outputs": [
    {
     "name": "stderr",
     "output_type": "stream",
     "text": [
      "[nltk_data] Downloading package wordnet to /Users/bharat/nltk_data...\n",
      "[nltk_data]   Package wordnet is already up-to-date!\n",
      "[nltk_data] Downloading package punkt to /Users/bharat/nltk_data...\n",
      "[nltk_data]   Package punkt is already up-to-date!\n"
     ]
    }
   ],
   "source": [
    "import nltk\n",
    "nltk.download('wordnet')\n",
    "nltk.download('punkt')\n",
    "from nltk.stem import WordNetLemmatizer\n",
    "lemmatizer = WordNetLemmatizer()\n",
    "import json\n",
    "import pickle\n",
    "import numpy as np\n",
    "from keras.models import Sequential\n",
    "from keras.layers import Dense, Activation, Dropout\n",
    "from keras.optimizers import SGD\n",
    "import random"
   ]
  },
  {
   "cell_type": "code",
   "execution_count": 94,
   "id": "f3e33f39",
   "metadata": {},
   "outputs": [],
   "source": [
    "words=[]\n",
    "classes = []\n",
    "documents = []\n",
    "ignore_words = ['?', '!']\n",
    "data_file = open('GL Bot.json').read()\n",
    "intents = json.loads(data_file)"
   ]
  },
  {
   "cell_type": "code",
   "execution_count": 95,
   "id": "ca2dd299",
   "metadata": {},
   "outputs": [
    {
     "data": {
      "text/plain": [
       "{'intents': [{'tag': 'Intro',\n",
       "   'patterns': ['hi',\n",
       "    'how are you',\n",
       "    'is anyone there',\n",
       "    'hello',\n",
       "    'whats up',\n",
       "    'hey',\n",
       "    'yo',\n",
       "    'listen',\n",
       "    'please help me',\n",
       "    'i am learner from',\n",
       "    'i belong to',\n",
       "    'aiml batch',\n",
       "    'aifl batch',\n",
       "    'i am from',\n",
       "    'my pm is',\n",
       "    'blended',\n",
       "    'online',\n",
       "    'i am from',\n",
       "    'hey ya',\n",
       "    'talking to you for first time'],\n",
       "   'responses': ['Hello! how can i help you ?'],\n",
       "   'context_set': ''},\n",
       "  {'tag': 'Exit',\n",
       "   'patterns': ['thank you',\n",
       "    'thanks',\n",
       "    'cya',\n",
       "    'see you',\n",
       "    'later',\n",
       "    'see you later',\n",
       "    'goodbye',\n",
       "    'i am leaving',\n",
       "    'have a Good day',\n",
       "    'you helped me',\n",
       "    'thanks a lot',\n",
       "    'thanks a ton',\n",
       "    'you are the best',\n",
       "    'great help',\n",
       "    'too good',\n",
       "    'you are a good learning buddy'],\n",
       "   'responses': ['I hope I was able to assist you, Good Bye'],\n",
       "   'context_set': ''},\n",
       "  {'tag': 'Olympus',\n",
       "   'patterns': ['olympus',\n",
       "    'explain me how olympus works',\n",
       "    'I am not able to understand olympus',\n",
       "    'olympus window not working',\n",
       "    'no access to olympus',\n",
       "    'unable to see link in olympus',\n",
       "    'no link visible on olympus',\n",
       "    'whom to contact for olympus',\n",
       "    'lot of problem with olympus',\n",
       "    'olypus is not a good tool',\n",
       "    'lot of problems with olympus',\n",
       "    'how to use olympus',\n",
       "    'teach me olympus'],\n",
       "   'responses': ['Link: Olympus wiki'],\n",
       "   'context_set': ''},\n",
       "  {'tag': 'SL',\n",
       "   'patterns': ['i am not able to understand svm',\n",
       "    'explain me how machine learning works',\n",
       "    'i am not able to understand naive bayes',\n",
       "    'i am not able to understand logistic regression',\n",
       "    'i am not able to understand ensemble techb=niques',\n",
       "    'i am not able to understand knn',\n",
       "    'i am not able to understand knn imputer',\n",
       "    'i am not able to understand cross validation',\n",
       "    'i am not able to understand boosting',\n",
       "    'i am not able to understand random forest',\n",
       "    'i am not able to understand ada boosting',\n",
       "    'i am not able to understand gradient boosting',\n",
       "    'machine learning',\n",
       "    'ML',\n",
       "    'SL',\n",
       "    'supervised learning',\n",
       "    'knn',\n",
       "    'logistic regression',\n",
       "    'regression',\n",
       "    'classification',\n",
       "    'naive bayes',\n",
       "    'nb',\n",
       "    'ensemble techniques',\n",
       "    'bagging',\n",
       "    'boosting',\n",
       "    'ada boosting',\n",
       "    'ada',\n",
       "    'gradient boosting',\n",
       "    'hyper parameters'],\n",
       "   'responses': ['Link: Machine Learning wiki '],\n",
       "   'context_set': ''},\n",
       "  {'tag': 'NN',\n",
       "   'patterns': ['what is deep learning',\n",
       "    'unable to understand deep learning',\n",
       "    'explain me how deep learning works',\n",
       "    'i am not able to understand deep learning',\n",
       "    'not able to understand neural nets',\n",
       "    'very diffult to understand neural nets',\n",
       "    'unable to understand neural nets',\n",
       "    'ann',\n",
       "    'artificial intelligence',\n",
       "    'artificial neural networks',\n",
       "    'weights',\n",
       "    'activation function',\n",
       "    'hidden layers',\n",
       "    'softmax',\n",
       "    'sigmoid',\n",
       "    'relu',\n",
       "    'otimizer',\n",
       "    'forward propagation',\n",
       "    'backward propagation',\n",
       "    'epochs',\n",
       "    'epoch',\n",
       "    'what is an epoch',\n",
       "    'adam',\n",
       "    'sgd'],\n",
       "   'responses': ['Link: Neural Nets wiki'],\n",
       "   'context_set': ''},\n",
       "  {'tag': 'Bot',\n",
       "   'patterns': ['what is your name',\n",
       "    'who are you',\n",
       "    'name please',\n",
       "    'when are your hours of opertions',\n",
       "    'what are your working hours',\n",
       "    'hours of operation',\n",
       "    'working hours',\n",
       "    'hours'],\n",
       "   'responses': ['I am your virtual learning assistant'],\n",
       "   'context_set': ''},\n",
       "  {'tag': 'Profane',\n",
       "   'patterns': ['what the hell',\n",
       "    'bloody stupid bot',\n",
       "    'do you think you are very smart',\n",
       "    'screw you',\n",
       "    'i hate you',\n",
       "    'you are stupid',\n",
       "    'jerk',\n",
       "    'you are a joke',\n",
       "    'useless piece of shit'],\n",
       "   'responses': ['Please use respectful words'],\n",
       "   'context_set': ''},\n",
       "  {'tag': 'Ticket',\n",
       "   'patterns': ['my problem is not solved',\n",
       "    'you did not help me',\n",
       "    'not a good solution',\n",
       "    'bad solution',\n",
       "    'not good solution',\n",
       "    'no help',\n",
       "    'wasted my time',\n",
       "    'useless bot',\n",
       "    'create a ticket'],\n",
       "   'responses': ['Tarnsferring the request to your PM'],\n",
       "   'context_set': ''}]}"
      ]
     },
     "execution_count": 95,
     "metadata": {},
     "output_type": "execute_result"
    }
   ],
   "source": [
    "intents"
   ]
  },
  {
   "cell_type": "code",
   "execution_count": 96,
   "id": "2b1c95de",
   "metadata": {},
   "outputs": [
    {
     "data": {
      "text/plain": [
       "{'tag': 'Intro',\n",
       " 'patterns': ['hi',\n",
       "  'how are you',\n",
       "  'is anyone there',\n",
       "  'hello',\n",
       "  'whats up',\n",
       "  'hey',\n",
       "  'yo',\n",
       "  'listen',\n",
       "  'please help me',\n",
       "  'i am learner from',\n",
       "  'i belong to',\n",
       "  'aiml batch',\n",
       "  'aifl batch',\n",
       "  'i am from',\n",
       "  'my pm is',\n",
       "  'blended',\n",
       "  'online',\n",
       "  'i am from',\n",
       "  'hey ya',\n",
       "  'talking to you for first time'],\n",
       " 'responses': ['Hello! how can i help you ?'],\n",
       " 'context_set': ''}"
      ]
     },
     "execution_count": 96,
     "metadata": {},
     "output_type": "execute_result"
    }
   ],
   "source": [
    "intents['intents'][0]"
   ]
  },
  {
   "cell_type": "code",
   "execution_count": 97,
   "id": "3f0f8344",
   "metadata": {},
   "outputs": [
    {
     "data": {
      "text/plain": [
       "8"
      ]
     },
     "execution_count": 97,
     "metadata": {},
     "output_type": "execute_result"
    }
   ],
   "source": [
    "len(intents['intents'])"
   ]
  },
  {
   "cell_type": "code",
   "execution_count": 98,
   "id": "886f24d9",
   "metadata": {},
   "outputs": [
    {
     "data": {
      "text/plain": [
       "{'tag': 'NN',\n",
       " 'patterns': ['what is deep learning',\n",
       "  'unable to understand deep learning',\n",
       "  'explain me how deep learning works',\n",
       "  'i am not able to understand deep learning',\n",
       "  'not able to understand neural nets',\n",
       "  'very diffult to understand neural nets',\n",
       "  'unable to understand neural nets',\n",
       "  'ann',\n",
       "  'artificial intelligence',\n",
       "  'artificial neural networks',\n",
       "  'weights',\n",
       "  'activation function',\n",
       "  'hidden layers',\n",
       "  'softmax',\n",
       "  'sigmoid',\n",
       "  'relu',\n",
       "  'otimizer',\n",
       "  'forward propagation',\n",
       "  'backward propagation',\n",
       "  'epochs',\n",
       "  'epoch',\n",
       "  'what is an epoch',\n",
       "  'adam',\n",
       "  'sgd'],\n",
       " 'responses': ['Link: Neural Nets wiki'],\n",
       " 'context_set': ''}"
      ]
     },
     "execution_count": 98,
     "metadata": {},
     "output_type": "execute_result"
    }
   ],
   "source": [
    "intents['intents'][4] #printing the core support dictionary"
   ]
  },
  {
   "cell_type": "code",
   "execution_count": 99,
   "id": "b2748ad1",
   "metadata": {},
   "outputs": [],
   "source": [
    "intents['intents'][4]['patterns'].append('nlp is very difficult')"
   ]
  },
  {
   "cell_type": "code",
   "execution_count": 100,
   "id": "683c5e0e",
   "metadata": {},
   "outputs": [],
   "source": [
    "for intent in intents['intents']:\n",
    "    for pattern in intent['patterns']:\n",
    "        #tokenize each word\n",
    "        w = nltk.word_tokenize(pattern)\n",
    "        words.extend(w)\n",
    "        #add documents in the corpus\n",
    "        documents.append((w, intent['tag']))\n",
    "        # add to our classes list\n",
    "        if intent['tag'] not in classes:\n",
    "            classes.append(intent['tag'])"
   ]
  },
  {
   "cell_type": "code",
   "execution_count": 101,
   "id": "06377933",
   "metadata": {},
   "outputs": [
    {
     "name": "stdout",
     "output_type": "stream",
     "text": [
      "129 documents\n",
      "8 classes ['Bot', 'Exit', 'Intro', 'NN', 'Olympus', 'Profane', 'SL', 'Ticket']\n",
      "160 unique lemmatized words ['a', 'able', 'access', 'activation', 'ada', 'adam', 'aifl', 'aiml', 'am', 'an', 'ann', 'anyone', 'are', 'artificial', 'backward', 'bad', 'bagging', 'batch', 'bayes', 'belong', 'best', 'blended', 'bloody', 'boosting', 'bot', 'buddy', 'classification', 'contact', 'create', 'cross', 'cya', 'day', 'deep', 'did', 'difficult', 'diffult', 'do', 'ensemble', 'epoch', 'explain', 'first', 'for', 'forest', 'forward', 'from', 'function', 'good', 'goodbye', 'gradient', 'great', 'hate', 'have', 'hell', 'hello', 'help', 'helped', 'hey', 'hi', 'hidden', 'hour', 'how', 'hyper', 'i', 'imputer', 'in', 'intelligence', 'is', 'jerk', 'joke', 'knn', 'later', 'layer', 'learner', 'learning', 'leaving', 'link', 'listen', 'logistic', 'lot', 'machine', 'me', 'ml', 'my', 'naive', 'name', 'nb', 'net', 'network', 'neural', 'nlp', 'no', 'not', 'of', 'olympus', 'olypus', 'on', 'online', 'operation', 'opertions', 'otimizer', 'parameter', 'piece', 'please', 'pm', 'problem', 'propagation', 'random', 'regression', 'relu', 'screw', 'see', 'sgd', 'shit', 'sigmoid', 'sl', 'smart', 'softmax', 'solution', 'solved', 'stupid', 'supervised', 'svm', 'talking', 'teach', 'techb=niques', 'technique', 'thank', 'thanks', 'the', 'there', 'think', 'ticket', 'time', 'to', 'ton', 'too', 'tool', 'unable', 'understand', 'up', 'use', 'useless', 'validation', 'very', 'visible', 'wasted', 'weight', 'what', 'whats', 'when', 'who', 'whom', 'window', 'with', 'work', 'working', 'ya', 'yo', 'you', 'your']\n"
     ]
    }
   ],
   "source": [
    "# lemmatize, lower each word and remove duplicates\n",
    "words = [lemmatizer.lemmatize(w.lower()) for w in words if w not in ignore_words]\n",
    "words = sorted(list(set(words)))\n",
    "# sort classes\n",
    "classes = sorted(list(set(classes)))\n",
    "# documents = combination between patterns and intents\n",
    "print (len(documents), \"documents\")\n",
    "# classes = intents\n",
    "print (len(classes), \"classes\", classes)\n",
    "# words = all words, vocabulary\n",
    "print (len(words), \"unique lemmatized words\", words)"
   ]
  },
  {
   "cell_type": "code",
   "execution_count": 102,
   "id": "c2c06f06",
   "metadata": {},
   "outputs": [
    {
     "name": "stdout",
     "output_type": "stream",
     "text": [
      "Training data created\n"
     ]
    }
   ],
   "source": [
    "# create our training data\n",
    "training = []\n",
    "# create an empty array for our output\n",
    "output_empty = [0] * len(classes)\n",
    "# training set, bag of words for each sentence\n",
    "for doc in documents:\n",
    "    # initialize our bag of words\n",
    "    bag = []\n",
    "    # list of tokenized words for the pattern\n",
    "    pattern_words = doc[0]\n",
    "    # lemmatize each word - create base word, in attempt to represent related words\n",
    "    pattern_words = [lemmatizer.lemmatize(word.lower()) for word in pattern_words]\n",
    "    # create our bag of words array with 1, if word match found in current pattern\n",
    "    for w in words:\n",
    "        bag.append(1) if w in pattern_words else bag.append(0)\n",
    "    # output is a '0' for each tag and '1' for current tag (for each pattern)\n",
    "    output_row = list(output_empty)\n",
    "    output_row[classes.index(doc[1])] = 1\n",
    "    training.append([bag, output_row])\n",
    "# shuffle our features and turn into np.array\n",
    "random.shuffle(training)\n",
    "training = np.array(training)\n",
    "# create train and test lists. X - patterns, Y - intents\n",
    "train_x = list(training[:,0])\n",
    "train_y = list(training[:,1])\n",
    "print(\"Training data created\")"
   ]
  },
  {
   "cell_type": "code",
   "execution_count": 103,
   "id": "4b579499",
   "metadata": {},
   "outputs": [
    {
     "name": "stdout",
     "output_type": "stream",
     "text": [
      "Epoch 1/200\n",
      "26/26 [==============================] - 1s 3ms/step - loss: 2.0653 - accuracy: 0.1628\n",
      "Epoch 2/200\n",
      "26/26 [==============================] - 0s 4ms/step - loss: 1.9485 - accuracy: 0.2481\n",
      "Epoch 3/200\n",
      "26/26 [==============================] - 0s 3ms/step - loss: 1.8835 - accuracy: 0.2403\n",
      "Epoch 4/200\n",
      "26/26 [==============================] - 0s 3ms/step - loss: 1.7624 - accuracy: 0.3178\n",
      "Epoch 5/200\n",
      "26/26 [==============================] - 0s 3ms/step - loss: 1.7291 - accuracy: 0.3643\n",
      "Epoch 6/200\n",
      "26/26 [==============================] - 0s 3ms/step - loss: 1.6198 - accuracy: 0.4186\n",
      "Epoch 7/200\n",
      "26/26 [==============================] - 0s 3ms/step - loss: 1.4964 - accuracy: 0.5039\n",
      "Epoch 8/200\n",
      "26/26 [==============================] - 0s 4ms/step - loss: 1.3943 - accuracy: 0.5271\n",
      "Epoch 9/200\n",
      "26/26 [==============================] - 0s 3ms/step - loss: 1.2267 - accuracy: 0.5581\n",
      "Epoch 10/200\n",
      "26/26 [==============================] - 0s 3ms/step - loss: 1.1632 - accuracy: 0.6434\n",
      "Epoch 11/200\n",
      "26/26 [==============================] - 0s 5ms/step - loss: 1.0499 - accuracy: 0.6512\n",
      "Epoch 12/200\n",
      "26/26 [==============================] - 0s 3ms/step - loss: 0.8899 - accuracy: 0.7442\n",
      "Epoch 13/200\n",
      "26/26 [==============================] - 0s 4ms/step - loss: 0.9300 - accuracy: 0.7287\n",
      "Epoch 14/200\n",
      "26/26 [==============================] - 0s 5ms/step - loss: 0.7526 - accuracy: 0.7442\n",
      "Epoch 15/200\n",
      "26/26 [==============================] - 0s 3ms/step - loss: 0.6431 - accuracy: 0.8062\n",
      "Epoch 16/200\n",
      "26/26 [==============================] - 0s 4ms/step - loss: 0.5817 - accuracy: 0.8295\n",
      "Epoch 17/200\n",
      "26/26 [==============================] - 0s 3ms/step - loss: 0.5012 - accuracy: 0.8140\n",
      "Epoch 18/200\n",
      "26/26 [==============================] - 0s 3ms/step - loss: 0.4683 - accuracy: 0.8450\n",
      "Epoch 19/200\n",
      "26/26 [==============================] - 0s 3ms/step - loss: 0.4191 - accuracy: 0.8450\n",
      "Epoch 20/200\n",
      "26/26 [==============================] - 0s 3ms/step - loss: 0.4048 - accuracy: 0.8760\n",
      "Epoch 21/200\n",
      "26/26 [==============================] - 0s 2ms/step - loss: 0.3249 - accuracy: 0.9302\n",
      "Epoch 22/200\n",
      "26/26 [==============================] - 0s 3ms/step - loss: 0.2948 - accuracy: 0.9225\n",
      "Epoch 23/200\n",
      "26/26 [==============================] - 0s 3ms/step - loss: 0.2709 - accuracy: 0.9380\n",
      "Epoch 24/200\n",
      "26/26 [==============================] - 0s 3ms/step - loss: 0.2770 - accuracy: 0.9302\n",
      "Epoch 25/200\n",
      "26/26 [==============================] - 0s 3ms/step - loss: 0.2724 - accuracy: 0.8915\n",
      "Epoch 26/200\n",
      "26/26 [==============================] - 0s 3ms/step - loss: 0.2483 - accuracy: 0.9457\n",
      "Epoch 27/200\n",
      "26/26 [==============================] - 0s 2ms/step - loss: 0.2379 - accuracy: 0.9302\n",
      "Epoch 28/200\n",
      "26/26 [==============================] - 0s 3ms/step - loss: 0.2187 - accuracy: 0.9457\n",
      "Epoch 29/200\n",
      "26/26 [==============================] - 0s 3ms/step - loss: 0.1333 - accuracy: 0.9845\n",
      "Epoch 30/200\n",
      "26/26 [==============================] - 0s 2ms/step - loss: 0.1417 - accuracy: 0.9690\n",
      "Epoch 31/200\n",
      "26/26 [==============================] - 0s 3ms/step - loss: 0.1508 - accuracy: 0.9535\n",
      "Epoch 32/200\n",
      "26/26 [==============================] - 0s 3ms/step - loss: 0.1995 - accuracy: 0.9535\n",
      "Epoch 33/200\n",
      "26/26 [==============================] - 0s 3ms/step - loss: 0.1348 - accuracy: 0.9612\n",
      "Epoch 34/200\n",
      "26/26 [==============================] - 0s 3ms/step - loss: 0.1488 - accuracy: 0.9612\n",
      "Epoch 35/200\n",
      "26/26 [==============================] - 0s 4ms/step - loss: 0.1771 - accuracy: 0.9457\n",
      "Epoch 36/200\n",
      "26/26 [==============================] - 0s 4ms/step - loss: 0.1022 - accuracy: 0.9845\n",
      "Epoch 37/200\n",
      "26/26 [==============================] - 0s 3ms/step - loss: 0.0965 - accuracy: 0.9922\n",
      "Epoch 38/200\n",
      "26/26 [==============================] - 0s 4ms/step - loss: 0.0811 - accuracy: 0.9767\n",
      "Epoch 39/200\n",
      "26/26 [==============================] - 0s 4ms/step - loss: 0.1164 - accuracy: 0.9690\n",
      "Epoch 40/200\n",
      "26/26 [==============================] - 0s 3ms/step - loss: 0.0716 - accuracy: 0.9922\n",
      "Epoch 41/200\n",
      "26/26 [==============================] - 0s 4ms/step - loss: 0.0942 - accuracy: 0.9612\n",
      "Epoch 42/200\n",
      "26/26 [==============================] - 0s 3ms/step - loss: 0.1172 - accuracy: 0.9690\n",
      "Epoch 43/200\n",
      "26/26 [==============================] - 0s 4ms/step - loss: 0.1128 - accuracy: 0.9457\n",
      "Epoch 44/200\n",
      "26/26 [==============================] - 0s 3ms/step - loss: 0.1500 - accuracy: 0.9535\n",
      "Epoch 45/200\n",
      "26/26 [==============================] - 0s 4ms/step - loss: 0.0795 - accuracy: 0.9690\n",
      "Epoch 46/200\n",
      "26/26 [==============================] - 0s 3ms/step - loss: 0.1254 - accuracy: 0.9380\n",
      "Epoch 47/200\n",
      "26/26 [==============================] - 0s 3ms/step - loss: 0.0870 - accuracy: 0.9690\n",
      "Epoch 48/200\n",
      "26/26 [==============================] - 0s 5ms/step - loss: 0.0828 - accuracy: 0.9690\n",
      "Epoch 49/200\n",
      "26/26 [==============================] - 0s 4ms/step - loss: 0.0741 - accuracy: 0.9767\n",
      "Epoch 50/200\n",
      "26/26 [==============================] - 0s 3ms/step - loss: 0.0776 - accuracy: 0.9845\n",
      "Epoch 51/200\n",
      "26/26 [==============================] - 0s 3ms/step - loss: 0.0757 - accuracy: 0.9845\n",
      "Epoch 52/200\n",
      "26/26 [==============================] - 0s 3ms/step - loss: 0.1039 - accuracy: 0.9767\n",
      "Epoch 53/200\n",
      "26/26 [==============================] - 0s 4ms/step - loss: 0.0806 - accuracy: 0.9767\n",
      "Epoch 54/200\n",
      "26/26 [==============================] - 0s 2ms/step - loss: 0.0574 - accuracy: 0.9922\n",
      "Epoch 55/200\n",
      "26/26 [==============================] - 0s 3ms/step - loss: 0.0883 - accuracy: 0.9922\n",
      "Epoch 56/200\n",
      "26/26 [==============================] - 0s 3ms/step - loss: 0.1155 - accuracy: 0.9690\n",
      "Epoch 57/200\n",
      "26/26 [==============================] - 0s 3ms/step - loss: 0.0209 - accuracy: 1.0000\n",
      "Epoch 58/200\n",
      "26/26 [==============================] - 0s 3ms/step - loss: 0.0485 - accuracy: 0.9767\n",
      "Epoch 59/200\n",
      "26/26 [==============================] - 0s 3ms/step - loss: 0.0536 - accuracy: 0.9922\n",
      "Epoch 60/200\n",
      "26/26 [==============================] - 0s 3ms/step - loss: 0.0599 - accuracy: 0.9845\n",
      "Epoch 61/200\n",
      "26/26 [==============================] - 0s 3ms/step - loss: 0.0234 - accuracy: 1.0000\n",
      "Epoch 62/200\n",
      "26/26 [==============================] - 0s 3ms/step - loss: 0.0504 - accuracy: 0.9922\n",
      "Epoch 63/200\n",
      "26/26 [==============================] - 0s 4ms/step - loss: 0.0302 - accuracy: 1.0000\n",
      "Epoch 64/200\n",
      "26/26 [==============================] - 0s 3ms/step - loss: 0.0383 - accuracy: 1.0000\n",
      "Epoch 65/200\n",
      "26/26 [==============================] - 0s 2ms/step - loss: 0.0416 - accuracy: 0.9845\n",
      "Epoch 66/200\n",
      "26/26 [==============================] - 0s 4ms/step - loss: 0.0258 - accuracy: 0.9922\n",
      "Epoch 67/200\n",
      "26/26 [==============================] - 0s 4ms/step - loss: 0.0268 - accuracy: 1.0000\n",
      "Epoch 68/200\n",
      "26/26 [==============================] - 0s 10ms/step - loss: 0.0370 - accuracy: 1.0000\n",
      "Epoch 69/200\n",
      "26/26 [==============================] - 0s 7ms/step - loss: 0.0664 - accuracy: 0.9922\n",
      "Epoch 70/200\n",
      "26/26 [==============================] - 0s 4ms/step - loss: 0.0586 - accuracy: 0.9767\n",
      "Epoch 71/200\n",
      "26/26 [==============================] - 0s 3ms/step - loss: 0.0111 - accuracy: 1.0000\n",
      "Epoch 72/200\n",
      "26/26 [==============================] - 0s 3ms/step - loss: 0.0369 - accuracy: 0.9922\n",
      "Epoch 73/200\n",
      "26/26 [==============================] - 0s 3ms/step - loss: 0.0751 - accuracy: 0.9845\n",
      "Epoch 74/200\n",
      "26/26 [==============================] - 0s 11ms/step - loss: 0.0468 - accuracy: 0.9845\n",
      "Epoch 75/200\n",
      "26/26 [==============================] - 0s 9ms/step - loss: 0.0334 - accuracy: 1.0000\n",
      "Epoch 76/200\n",
      "26/26 [==============================] - 0s 10ms/step - loss: 0.0491 - accuracy: 0.9845\n",
      "Epoch 77/200\n",
      "26/26 [==============================] - 0s 8ms/step - loss: 0.0200 - accuracy: 1.0000\n",
      "Epoch 78/200\n",
      "26/26 [==============================] - 0s 4ms/step - loss: 0.0418 - accuracy: 0.9845\n",
      "Epoch 79/200\n",
      "26/26 [==============================] - 0s 4ms/step - loss: 0.0357 - accuracy: 0.9845\n",
      "Epoch 80/200\n",
      "26/26 [==============================] - 0s 3ms/step - loss: 0.0695 - accuracy: 0.9767\n",
      "Epoch 81/200\n",
      "26/26 [==============================] - 0s 3ms/step - loss: 0.0605 - accuracy: 0.9767\n",
      "Epoch 82/200\n",
      "26/26 [==============================] - 0s 3ms/step - loss: 0.0311 - accuracy: 0.9845\n",
      "Epoch 83/200\n",
      "26/26 [==============================] - 0s 3ms/step - loss: 0.0314 - accuracy: 0.9845\n",
      "Epoch 84/200\n",
      "26/26 [==============================] - 0s 3ms/step - loss: 0.1161 - accuracy: 0.9845\n",
      "Epoch 85/200\n",
      "26/26 [==============================] - 0s 9ms/step - loss: 0.0742 - accuracy: 0.9690\n",
      "Epoch 86/200\n",
      "26/26 [==============================] - 0s 4ms/step - loss: 0.0871 - accuracy: 0.9767\n",
      "Epoch 87/200\n",
      "26/26 [==============================] - 0s 7ms/step - loss: 0.0387 - accuracy: 0.9845\n",
      "Epoch 88/200\n",
      "26/26 [==============================] - 0s 7ms/step - loss: 0.0434 - accuracy: 0.9922\n",
      "Epoch 89/200\n",
      "26/26 [==============================] - 0s 4ms/step - loss: 0.0282 - accuracy: 1.0000\n",
      "Epoch 90/200\n",
      "26/26 [==============================] - 0s 3ms/step - loss: 0.0328 - accuracy: 0.9845\n",
      "Epoch 91/200\n",
      "26/26 [==============================] - 0s 3ms/step - loss: 0.0520 - accuracy: 0.9922\n",
      "Epoch 92/200\n",
      "26/26 [==============================] - 0s 5ms/step - loss: 0.0377 - accuracy: 0.9922\n",
      "Epoch 93/200\n",
      "26/26 [==============================] - 0s 3ms/step - loss: 0.0359 - accuracy: 1.0000\n",
      "Epoch 94/200\n",
      "26/26 [==============================] - 0s 3ms/step - loss: 0.0195 - accuracy: 1.0000\n",
      "Epoch 95/200\n",
      "26/26 [==============================] - 0s 4ms/step - loss: 0.0240 - accuracy: 1.0000\n",
      "Epoch 96/200\n",
      "26/26 [==============================] - 0s 4ms/step - loss: 0.0351 - accuracy: 0.9922\n",
      "Epoch 97/200\n",
      "26/26 [==============================] - 0s 3ms/step - loss: 0.0163 - accuracy: 1.0000\n",
      "Epoch 98/200\n",
      "26/26 [==============================] - 0s 3ms/step - loss: 0.0202 - accuracy: 1.0000\n",
      "Epoch 99/200\n",
      "26/26 [==============================] - 0s 4ms/step - loss: 0.0346 - accuracy: 0.9922\n",
      "Epoch 100/200\n",
      "26/26 [==============================] - 0s 4ms/step - loss: 0.0221 - accuracy: 0.9922\n",
      "Epoch 101/200\n",
      "26/26 [==============================] - 0s 3ms/step - loss: 0.0156 - accuracy: 1.0000\n",
      "Epoch 102/200\n",
      "26/26 [==============================] - 0s 3ms/step - loss: 0.0265 - accuracy: 0.9922\n",
      "Epoch 103/200\n",
      "26/26 [==============================] - 0s 4ms/step - loss: 0.0217 - accuracy: 0.9922\n",
      "Epoch 104/200\n",
      "26/26 [==============================] - 0s 4ms/step - loss: 0.0118 - accuracy: 1.0000\n",
      "Epoch 105/200\n",
      "26/26 [==============================] - 0s 3ms/step - loss: 0.0226 - accuracy: 0.9922\n",
      "Epoch 106/200\n",
      "26/26 [==============================] - 0s 4ms/step - loss: 0.0428 - accuracy: 0.9922\n",
      "Epoch 107/200\n",
      "26/26 [==============================] - 0s 3ms/step - loss: 0.0145 - accuracy: 1.0000\n",
      "Epoch 108/200\n",
      "26/26 [==============================] - 0s 3ms/step - loss: 0.0117 - accuracy: 1.0000\n",
      "Epoch 109/200\n",
      "26/26 [==============================] - 0s 3ms/step - loss: 0.0360 - accuracy: 0.9922\n",
      "Epoch 110/200\n",
      "26/26 [==============================] - 0s 3ms/step - loss: 0.0209 - accuracy: 1.0000\n",
      "Epoch 111/200\n",
      "26/26 [==============================] - 0s 3ms/step - loss: 0.0116 - accuracy: 1.0000\n",
      "Epoch 112/200\n",
      "26/26 [==============================] - 0s 3ms/step - loss: 0.0084 - accuracy: 1.0000\n",
      "Epoch 113/200\n",
      "26/26 [==============================] - 0s 3ms/step - loss: 0.0197 - accuracy: 1.0000\n",
      "Epoch 114/200\n",
      "26/26 [==============================] - 0s 2ms/step - loss: 0.0314 - accuracy: 0.9922\n",
      "Epoch 115/200\n",
      "26/26 [==============================] - 0s 3ms/step - loss: 0.0371 - accuracy: 0.9922\n",
      "Epoch 116/200\n",
      "26/26 [==============================] - 0s 3ms/step - loss: 0.0237 - accuracy: 0.9922\n",
      "Epoch 117/200\n",
      "26/26 [==============================] - 0s 3ms/step - loss: 0.0147 - accuracy: 1.0000\n",
      "Epoch 118/200\n",
      "26/26 [==============================] - 0s 3ms/step - loss: 0.0248 - accuracy: 0.9922\n",
      "Epoch 119/200\n",
      "26/26 [==============================] - 0s 3ms/step - loss: 0.0194 - accuracy: 1.0000\n",
      "Epoch 120/200\n",
      "26/26 [==============================] - 0s 3ms/step - loss: 0.0077 - accuracy: 1.0000\n",
      "Epoch 121/200\n",
      "26/26 [==============================] - 0s 3ms/step - loss: 0.0319 - accuracy: 0.9922\n",
      "Epoch 122/200\n",
      "26/26 [==============================] - 0s 3ms/step - loss: 0.0162 - accuracy: 1.0000\n",
      "Epoch 123/200\n",
      "26/26 [==============================] - 0s 3ms/step - loss: 0.0131 - accuracy: 1.0000\n",
      "Epoch 124/200\n",
      "26/26 [==============================] - 0s 2ms/step - loss: 0.0122 - accuracy: 1.0000\n",
      "Epoch 125/200\n",
      "26/26 [==============================] - 0s 3ms/step - loss: 0.0224 - accuracy: 1.0000\n",
      "Epoch 126/200\n",
      "26/26 [==============================] - 0s 3ms/step - loss: 0.0108 - accuracy: 1.0000\n",
      "Epoch 127/200\n",
      "26/26 [==============================] - 0s 4ms/step - loss: 0.0059 - accuracy: 1.0000\n",
      "Epoch 128/200\n",
      "26/26 [==============================] - 0s 3ms/step - loss: 0.0293 - accuracy: 0.9922\n",
      "Epoch 129/200\n",
      "26/26 [==============================] - 0s 3ms/step - loss: 0.0446 - accuracy: 0.9845\n",
      "Epoch 130/200\n",
      "26/26 [==============================] - 0s 2ms/step - loss: 0.0195 - accuracy: 1.0000\n",
      "Epoch 131/200\n",
      "26/26 [==============================] - 0s 3ms/step - loss: 0.0115 - accuracy: 1.0000\n",
      "Epoch 132/200\n",
      "26/26 [==============================] - 0s 3ms/step - loss: 0.0079 - accuracy: 1.0000\n",
      "Epoch 133/200\n",
      "26/26 [==============================] - 0s 4ms/step - loss: 0.0152 - accuracy: 1.0000\n",
      "Epoch 134/200\n",
      "26/26 [==============================] - 0s 3ms/step - loss: 0.0091 - accuracy: 1.0000\n",
      "Epoch 135/200\n",
      "26/26 [==============================] - 0s 4ms/step - loss: 0.0169 - accuracy: 0.9922\n",
      "Epoch 136/200\n",
      "26/26 [==============================] - 0s 3ms/step - loss: 0.0162 - accuracy: 1.0000\n",
      "Epoch 137/200\n",
      "26/26 [==============================] - 0s 3ms/step - loss: 0.0284 - accuracy: 1.0000\n",
      "Epoch 138/200\n",
      "26/26 [==============================] - 0s 3ms/step - loss: 0.0179 - accuracy: 1.0000\n",
      "Epoch 139/200\n",
      "26/26 [==============================] - 0s 3ms/step - loss: 0.0161 - accuracy: 1.0000\n",
      "Epoch 140/200\n",
      "26/26 [==============================] - 0s 3ms/step - loss: 0.0343 - accuracy: 0.9845\n",
      "Epoch 141/200\n",
      "26/26 [==============================] - 0s 3ms/step - loss: 0.0330 - accuracy: 0.9922\n",
      "Epoch 142/200\n",
      "26/26 [==============================] - 0s 3ms/step - loss: 0.0134 - accuracy: 1.0000\n",
      "Epoch 143/200\n",
      "26/26 [==============================] - 0s 3ms/step - loss: 0.0132 - accuracy: 1.0000\n",
      "Epoch 144/200\n",
      "26/26 [==============================] - 0s 4ms/step - loss: 0.0207 - accuracy: 0.9922\n",
      "Epoch 145/200\n",
      "26/26 [==============================] - 0s 3ms/step - loss: 0.0062 - accuracy: 1.0000\n",
      "Epoch 146/200\n",
      "26/26 [==============================] - 0s 4ms/step - loss: 0.0215 - accuracy: 0.9922\n",
      "Epoch 147/200\n",
      "26/26 [==============================] - 0s 3ms/step - loss: 0.0089 - accuracy: 1.0000\n",
      "Epoch 148/200\n",
      "26/26 [==============================] - 0s 3ms/step - loss: 0.0130 - accuracy: 1.0000\n",
      "Epoch 149/200\n",
      "26/26 [==============================] - 0s 3ms/step - loss: 0.0225 - accuracy: 0.9922\n",
      "Epoch 150/200\n",
      "26/26 [==============================] - 0s 3ms/step - loss: 0.0131 - accuracy: 1.0000\n",
      "Epoch 151/200\n",
      "26/26 [==============================] - 0s 3ms/step - loss: 0.0109 - accuracy: 1.0000\n",
      "Epoch 152/200\n",
      "26/26 [==============================] - 0s 3ms/step - loss: 0.0245 - accuracy: 0.9922\n",
      "Epoch 153/200\n",
      "26/26 [==============================] - 0s 3ms/step - loss: 0.0220 - accuracy: 0.9922\n",
      "Epoch 154/200\n",
      "26/26 [==============================] - 0s 2ms/step - loss: 0.0064 - accuracy: 1.0000\n",
      "Epoch 155/200\n",
      "26/26 [==============================] - 0s 3ms/step - loss: 0.0034 - accuracy: 1.0000\n",
      "Epoch 156/200\n",
      "26/26 [==============================] - 0s 3ms/step - loss: 0.0199 - accuracy: 1.0000\n",
      "Epoch 157/200\n",
      "26/26 [==============================] - 0s 3ms/step - loss: 0.0099 - accuracy: 1.0000\n",
      "Epoch 158/200\n",
      "26/26 [==============================] - 0s 3ms/step - loss: 0.0680 - accuracy: 0.9767\n",
      "Epoch 159/200\n",
      "26/26 [==============================] - 0s 3ms/step - loss: 0.0620 - accuracy: 0.9767\n",
      "Epoch 160/200\n",
      "26/26 [==============================] - 0s 3ms/step - loss: 0.0161 - accuracy: 1.0000\n",
      "Epoch 161/200\n",
      "26/26 [==============================] - 0s 3ms/step - loss: 0.0061 - accuracy: 1.0000\n",
      "Epoch 162/200\n",
      "26/26 [==============================] - 0s 3ms/step - loss: 0.0190 - accuracy: 0.9922\n",
      "Epoch 163/200\n",
      "26/26 [==============================] - 0s 3ms/step - loss: 0.0101 - accuracy: 0.9922\n",
      "Epoch 164/200\n",
      "26/26 [==============================] - 0s 3ms/step - loss: 0.0128 - accuracy: 1.0000\n",
      "Epoch 165/200\n",
      "26/26 [==============================] - 0s 3ms/step - loss: 0.0118 - accuracy: 1.0000\n",
      "Epoch 166/200\n",
      "26/26 [==============================] - 0s 2ms/step - loss: 0.0382 - accuracy: 0.9845\n",
      "Epoch 167/200\n",
      "26/26 [==============================] - 0s 3ms/step - loss: 0.0318 - accuracy: 0.9922\n",
      "Epoch 168/200\n",
      "26/26 [==============================] - 0s 3ms/step - loss: 0.0208 - accuracy: 0.9922\n",
      "Epoch 169/200\n",
      "26/26 [==============================] - 0s 3ms/step - loss: 0.0206 - accuracy: 0.9922\n",
      "Epoch 170/200\n",
      "26/26 [==============================] - 0s 2ms/step - loss: 0.0082 - accuracy: 1.0000\n",
      "Epoch 171/200\n",
      "26/26 [==============================] - 0s 3ms/step - loss: 0.0089 - accuracy: 1.0000\n",
      "Epoch 172/200\n",
      "26/26 [==============================] - 0s 2ms/step - loss: 0.0088 - accuracy: 1.0000\n",
      "Epoch 173/200\n",
      "26/26 [==============================] - 0s 3ms/step - loss: 0.0090 - accuracy: 1.0000\n",
      "Epoch 174/200\n",
      "26/26 [==============================] - 0s 3ms/step - loss: 0.0048 - accuracy: 1.0000\n",
      "Epoch 175/200\n",
      "26/26 [==============================] - 0s 3ms/step - loss: 0.0210 - accuracy: 0.9922\n",
      "Epoch 176/200\n",
      "26/26 [==============================] - 0s 3ms/step - loss: 0.0108 - accuracy: 1.0000\n",
      "Epoch 177/200\n",
      "26/26 [==============================] - 0s 3ms/step - loss: 0.0123 - accuracy: 1.0000\n",
      "Epoch 178/200\n",
      "26/26 [==============================] - 0s 3ms/step - loss: 0.0113 - accuracy: 1.0000\n",
      "Epoch 179/200\n",
      "26/26 [==============================] - 0s 3ms/step - loss: 0.0209 - accuracy: 0.9845\n",
      "Epoch 180/200\n",
      "26/26 [==============================] - 0s 3ms/step - loss: 0.0111 - accuracy: 1.0000\n",
      "Epoch 181/200\n",
      "26/26 [==============================] - 0s 3ms/step - loss: 0.0053 - accuracy: 1.0000\n",
      "Epoch 182/200\n",
      "26/26 [==============================] - 0s 3ms/step - loss: 0.0091 - accuracy: 1.0000\n",
      "Epoch 183/200\n",
      "26/26 [==============================] - 0s 4ms/step - loss: 0.0038 - accuracy: 1.0000\n",
      "Epoch 184/200\n",
      "26/26 [==============================] - 0s 3ms/step - loss: 0.0095 - accuracy: 1.0000\n",
      "Epoch 185/200\n",
      "26/26 [==============================] - 0s 3ms/step - loss: 0.0123 - accuracy: 1.0000\n",
      "Epoch 186/200\n",
      "26/26 [==============================] - 0s 3ms/step - loss: 0.0110 - accuracy: 1.0000\n",
      "Epoch 187/200\n",
      "26/26 [==============================] - 0s 2ms/step - loss: 0.0026 - accuracy: 1.0000\n",
      "Epoch 188/200\n",
      "26/26 [==============================] - 0s 3ms/step - loss: 0.0481 - accuracy: 0.9845\n",
      "Epoch 189/200\n",
      "26/26 [==============================] - 0s 3ms/step - loss: 0.0163 - accuracy: 0.9922\n",
      "Epoch 190/200\n",
      "26/26 [==============================] - 0s 3ms/step - loss: 0.0175 - accuracy: 1.0000\n",
      "Epoch 191/200\n",
      "26/26 [==============================] - 0s 3ms/step - loss: 0.0334 - accuracy: 0.9922\n",
      "Epoch 192/200\n",
      "26/26 [==============================] - 0s 3ms/step - loss: 0.0398 - accuracy: 0.9922\n",
      "Epoch 193/200\n",
      "26/26 [==============================] - 0s 3ms/step - loss: 0.0141 - accuracy: 0.9922\n",
      "Epoch 194/200\n",
      "26/26 [==============================] - 0s 3ms/step - loss: 0.0061 - accuracy: 1.0000\n",
      "Epoch 195/200\n",
      "26/26 [==============================] - 0s 4ms/step - loss: 0.0307 - accuracy: 0.9845\n",
      "Epoch 196/200\n",
      "26/26 [==============================] - 0s 2ms/step - loss: 0.0159 - accuracy: 0.9922\n",
      "Epoch 197/200\n",
      "26/26 [==============================] - 0s 3ms/step - loss: 0.0066 - accuracy: 1.0000\n",
      "Epoch 198/200\n",
      "26/26 [==============================] - 0s 3ms/step - loss: 0.0060 - accuracy: 1.0000\n",
      "Epoch 199/200\n",
      "26/26 [==============================] - 0s 3ms/step - loss: 0.0072 - accuracy: 1.0000\n",
      "Epoch 200/200\n",
      "26/26 [==============================] - 0s 3ms/step - loss: 0.0115 - accuracy: 0.9922\n",
      "model created\n"
     ]
    }
   ],
   "source": [
    "# Create model - 3 layers. First layer 128 neurons, second layer 64 neurons and 3rd output layer contains number of neurons\n",
    "# equal to number of intents to predict output intent with softmax\n",
    "model = Sequential()\n",
    "model.add(Dense(128, input_shape=(len(train_x[0]),), activation='relu'))\n",
    "model.add(Dropout(0.5))\n",
    "model.add(Dense(64, activation='relu'))\n",
    "model.add(Dropout(0.5))\n",
    "model.add(Dense(len(train_y[0]), activation='softmax'))\n",
    "# Compile model. Stochastic gradient descent with Nesterov accelerated gradient gives good results for this model\n",
    "sgd = SGD(lr=0.01, decay=1e-6, momentum=0.9, nesterov=True)\n",
    "model.compile(loss='categorical_crossentropy', optimizer=sgd, metrics=['accuracy'])\n",
    "#fitting and saving the model \n",
    "hist = model.fit(np.array(train_x), np.array(train_y), epochs=200, batch_size=5, verbose=1)\n",
    "model.save('chatbot_model.h5', hist)\n",
    "print(\"model created\")"
   ]
  },
  {
   "cell_type": "code",
   "execution_count": 104,
   "id": "0ddda190",
   "metadata": {},
   "outputs": [],
   "source": [
    "pickle.dump(words,open('words.pkl','wb'))\n",
    "pickle.dump(classes,open('classes.pkl','wb'))"
   ]
  },
  {
   "cell_type": "code",
   "execution_count": 106,
   "id": "01e0ca8b",
   "metadata": {},
   "outputs": [],
   "source": [
    "import nltk\n",
    "from nltk.stem import WordNetLemmatizer\n",
    "lemmatizer = WordNetLemmatizer()\n",
    "import pickle\n",
    "import numpy as np\n",
    "import json\n",
    "import random\n",
    "from keras.models import load_model\n",
    "model = load_model('chatbot_model.h5')\n",
    "intents = json.loads(open('GL Bot.json').read())\n",
    "words = pickle.load(open('words.pkl','rb'))\n",
    "classes = pickle.load(open('classes.pkl','rb'))"
   ]
  },
  {
   "cell_type": "code",
   "execution_count": 107,
   "id": "63f09836",
   "metadata": {},
   "outputs": [],
   "source": [
    "def clean_up_sentence(sentence):\n",
    "    # tokenize the pattern - split words into array\n",
    "    sentence_words = nltk.word_tokenize(sentence)\n",
    "    # stem each word - create short form for word\n",
    "    sentence_words = [lemmatizer.lemmatize(word.lower()) for word in sentence_words]\n",
    "    return sentence_words\n",
    "# return bag of words array: 0 or 1 for each word in the bag that exists in the sentence\n",
    "def bow(sentence, words, show_details=True):\n",
    "    # tokenize the pattern\n",
    "    sentence_words = clean_up_sentence(sentence)\n",
    "    # bag of words - matrix of N words, vocabulary matrix\n",
    "    bag = [0]*len(words) \n",
    "    for s in sentence_words:\n",
    "        for i,w in enumerate(words):\n",
    "            if w == s: \n",
    "                # assign 1 if current word is in the vocabulary position\n",
    "                bag[i] = 1\n",
    "                if show_details:\n",
    "                    print (\"found in bag: %s\" % w)\n",
    "    return(np.array(bag))\n",
    "def predict_class(sentence, model):\n",
    "    # filter out predictions below a threshold\n",
    "    p = bow(sentence, words,show_details=False)\n",
    "    res = model.predict(np.array([p]))[0]\n",
    "    ERROR_THRESHOLD = 0.25\n",
    "    results = [[i,r] for i,r in enumerate(res) if r>ERROR_THRESHOLD]\n",
    "    # sort by strength of probability\n",
    "    results.sort(key=lambda x: x[1], reverse=True)\n",
    "    return_list = []\n",
    "    for r in results:\n",
    "        return_list.append({\"intent\": classes[r[0]], \"probability\": str(r[1])})\n",
    "    return return_list"
   ]
  },
  {
   "cell_type": "code",
   "execution_count": 108,
   "id": "66b7d9d9",
   "metadata": {},
   "outputs": [],
   "source": [
    "def getResponse(ints, intents_json):\n",
    "    tag = ints[0]['intent']\n",
    "    list_of_intents = intents_json['intents']\n",
    "    for i in list_of_intents:\n",
    "        if(i['tag']== tag):\n",
    "            result = random.choice(i['responses'])\n",
    "            break\n",
    "    return result\n",
    "def chatbot_response(text):\n",
    "    ints = predict_class(text, model)\n",
    "    res = getResponse(ints, intents)\n",
    "    return res"
   ]
  },
  {
   "cell_type": "code",
   "execution_count": 109,
   "id": "3cb2ae40",
   "metadata": {},
   "outputs": [
    {
     "name": "stdout",
     "output_type": "stream",
     "text": [
      "1/1 [==============================] - 0s 244ms/step\n"
     ]
    },
    {
     "data": {
      "text/plain": [
       "'Link: Neural Nets wiki'"
      ]
     },
     "execution_count": 109,
     "metadata": {},
     "output_type": "execute_result"
    }
   ],
   "source": [
    "chatbot_response(\"where is nlp\")"
   ]
  },
  {
   "cell_type": "code",
   "execution_count": null,
   "id": "2f29d4a0",
   "metadata": {},
   "outputs": [],
   "source": [
    "#text chat utility function\n",
    "\n",
    "def chat():\n",
    "  print(\"Chat with Bharat (type: stop to quit)\")\n",
    "  print(\"if answer is not right (type: *)\")\n",
    "  while True:\n",
    "    inp = input(\"\\n\\nYou:\")\n",
    "    if inp.lower() == \"*\":\n",
    "      print(\"BOT: Please rephrase your question and try again\")\n",
    "    if inp.lower() == \"quit\":\n",
    "      break\n",
    "\n",
    "    results = chatbot_response(inp)\n",
    "    print(results)"
   ]
  },
  {
   "cell_type": "code",
   "execution_count": null,
   "id": "1f44cd6a",
   "metadata": {},
   "outputs": [],
   "source": [
    "chat()"
   ]
  },
  {
   "cell_type": "code",
   "execution_count": null,
   "id": "83fa735d",
   "metadata": {},
   "outputs": [],
   "source": []
  }
 ],
 "metadata": {
  "kernelspec": {
   "display_name": "Python 3 (ipykernel)",
   "language": "python",
   "name": "python3"
  },
  "language_info": {
   "codemirror_mode": {
    "name": "ipython",
    "version": 3
   },
   "file_extension": ".py",
   "mimetype": "text/x-python",
   "name": "python",
   "nbconvert_exporter": "python",
   "pygments_lexer": "ipython3",
   "version": "3.9.7"
  }
 },
 "nbformat": 4,
 "nbformat_minor": 5
}
